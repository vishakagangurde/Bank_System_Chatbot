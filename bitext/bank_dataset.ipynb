{
  "cells": [
    {
      "cell_type": "code",
      "execution_count": 1,
      "metadata": {
        "colab": {
          "base_uri": "https://localhost:8080/"
        },
        "collapsed": true,
        "id": "SFTwsVJBdb03",
        "outputId": "b2752526-ce42-4d2a-84ea-3df36a70a0b0"
      },
      "outputs": [],
      "source": [
        "# !pip install datasets\n",
        "\n"
      ]
    },
    {
      "cell_type": "code",
      "execution_count": 1,
      "metadata": {},
      "outputs": [],
      "source": [
        "# Define file paths\n",
        "csv_file = \"bitext/Bitext-retail-banking-llm-chatbot-training-dataset.csv\"\n",
        "json_file = \"bitext/Bitext-retail-banking-llm-chatbot-training-dataset.json\""
      ]
    },
    {
      "cell_type": "markdown",
      "metadata": {},
      "source": [
        "Loading the Dataset"
      ]
    },
    {
      "cell_type": "code",
      "execution_count": null,
      "metadata": {
        "colab": {
          "base_uri": "https://localhost:8080/"
        },
        "id": "rWRLfS0AdRtl",
        "outputId": "5331c186-bb18-4667-f879-e7387bf0ffcc"
      },
      "outputs": [
        {
          "ename": "FileNotFoundError",
          "evalue": "Couldn't find any data file at c:\\Users\\visha\\OneDrive\\Desktop\\Bank_System_Chatbot\\bitext\\Bank_System_Chatbot\\bitext\\bitext_dataset.csv.",
          "output_type": "error",
          "traceback": [
            "\u001b[1;31m---------------------------------------------------------------------------\u001b[0m",
            "\u001b[1;31mFileNotFoundError\u001b[0m                         Traceback (most recent call last)",
            "Cell \u001b[1;32mIn[2], line 4\u001b[0m\n\u001b[0;32m      1\u001b[0m \u001b[38;5;28;01mfrom\u001b[39;00m\u001b[38;5;250m \u001b[39m\u001b[38;5;21;01mdatasets\u001b[39;00m\u001b[38;5;250m \u001b[39m\u001b[38;5;28;01mimport\u001b[39;00m load_dataset\n\u001b[0;32m      3\u001b[0m \u001b[38;5;66;03m# Load the dataset from Hugging Face\u001b[39;00m\n\u001b[1;32m----> 4\u001b[0m dataset \u001b[38;5;241m=\u001b[39m \u001b[43mload_dataset\u001b[49m\u001b[43m(\u001b[49m\u001b[38;5;124;43m'\u001b[39;49m\u001b[38;5;124;43mBank_System_Chatbot/bitext/bitext_dataset.csv\u001b[39;49m\u001b[38;5;124;43m'\u001b[39;49m\u001b[43m)\u001b[49m\n\u001b[0;32m      6\u001b[0m \u001b[38;5;66;03m# Check the structure of the dataset\u001b[39;00m\n\u001b[0;32m      7\u001b[0m \u001b[38;5;28mprint\u001b[39m(dataset)\n",
            "File \u001b[1;32mc:\\Users\\visha\\miniconda3\\envs\\mchatbot\\Lib\\site-packages\\datasets\\load.py:2061\u001b[0m, in \u001b[0;36mload_dataset\u001b[1;34m(path, name, data_dir, data_files, split, cache_dir, features, download_config, download_mode, verification_mode, keep_in_memory, save_infos, revision, token, streaming, num_proc, storage_options, trust_remote_code, **config_kwargs)\u001b[0m\n\u001b[0;32m   2056\u001b[0m verification_mode \u001b[38;5;241m=\u001b[39m VerificationMode(\n\u001b[0;32m   2057\u001b[0m     (verification_mode \u001b[38;5;129;01mor\u001b[39;00m VerificationMode\u001b[38;5;241m.\u001b[39mBASIC_CHECKS) \u001b[38;5;28;01mif\u001b[39;00m \u001b[38;5;129;01mnot\u001b[39;00m save_infos \u001b[38;5;28;01melse\u001b[39;00m VerificationMode\u001b[38;5;241m.\u001b[39mALL_CHECKS\n\u001b[0;32m   2058\u001b[0m )\n\u001b[0;32m   2060\u001b[0m \u001b[38;5;66;03m# Create a dataset builder\u001b[39;00m\n\u001b[1;32m-> 2061\u001b[0m builder_instance \u001b[38;5;241m=\u001b[39m \u001b[43mload_dataset_builder\u001b[49m\u001b[43m(\u001b[49m\n\u001b[0;32m   2062\u001b[0m \u001b[43m    \u001b[49m\u001b[43mpath\u001b[49m\u001b[38;5;241;43m=\u001b[39;49m\u001b[43mpath\u001b[49m\u001b[43m,\u001b[49m\n\u001b[0;32m   2063\u001b[0m \u001b[43m    \u001b[49m\u001b[43mname\u001b[49m\u001b[38;5;241;43m=\u001b[39;49m\u001b[43mname\u001b[49m\u001b[43m,\u001b[49m\n\u001b[0;32m   2064\u001b[0m \u001b[43m    \u001b[49m\u001b[43mdata_dir\u001b[49m\u001b[38;5;241;43m=\u001b[39;49m\u001b[43mdata_dir\u001b[49m\u001b[43m,\u001b[49m\n\u001b[0;32m   2065\u001b[0m \u001b[43m    \u001b[49m\u001b[43mdata_files\u001b[49m\u001b[38;5;241;43m=\u001b[39;49m\u001b[43mdata_files\u001b[49m\u001b[43m,\u001b[49m\n\u001b[0;32m   2066\u001b[0m \u001b[43m    \u001b[49m\u001b[43mcache_dir\u001b[49m\u001b[38;5;241;43m=\u001b[39;49m\u001b[43mcache_dir\u001b[49m\u001b[43m,\u001b[49m\n\u001b[0;32m   2067\u001b[0m \u001b[43m    \u001b[49m\u001b[43mfeatures\u001b[49m\u001b[38;5;241;43m=\u001b[39;49m\u001b[43mfeatures\u001b[49m\u001b[43m,\u001b[49m\n\u001b[0;32m   2068\u001b[0m \u001b[43m    \u001b[49m\u001b[43mdownload_config\u001b[49m\u001b[38;5;241;43m=\u001b[39;49m\u001b[43mdownload_config\u001b[49m\u001b[43m,\u001b[49m\n\u001b[0;32m   2069\u001b[0m \u001b[43m    \u001b[49m\u001b[43mdownload_mode\u001b[49m\u001b[38;5;241;43m=\u001b[39;49m\u001b[43mdownload_mode\u001b[49m\u001b[43m,\u001b[49m\n\u001b[0;32m   2070\u001b[0m \u001b[43m    \u001b[49m\u001b[43mrevision\u001b[49m\u001b[38;5;241;43m=\u001b[39;49m\u001b[43mrevision\u001b[49m\u001b[43m,\u001b[49m\n\u001b[0;32m   2071\u001b[0m \u001b[43m    \u001b[49m\u001b[43mtoken\u001b[49m\u001b[38;5;241;43m=\u001b[39;49m\u001b[43mtoken\u001b[49m\u001b[43m,\u001b[49m\n\u001b[0;32m   2072\u001b[0m \u001b[43m    \u001b[49m\u001b[43mstorage_options\u001b[49m\u001b[38;5;241;43m=\u001b[39;49m\u001b[43mstorage_options\u001b[49m\u001b[43m,\u001b[49m\n\u001b[0;32m   2073\u001b[0m \u001b[43m    \u001b[49m\u001b[43mtrust_remote_code\u001b[49m\u001b[38;5;241;43m=\u001b[39;49m\u001b[43mtrust_remote_code\u001b[49m\u001b[43m,\u001b[49m\n\u001b[0;32m   2074\u001b[0m \u001b[43m    \u001b[49m\u001b[43m_require_default_config_name\u001b[49m\u001b[38;5;241;43m=\u001b[39;49m\u001b[43mname\u001b[49m\u001b[43m \u001b[49m\u001b[38;5;129;43;01mis\u001b[39;49;00m\u001b[43m \u001b[49m\u001b[38;5;28;43;01mNone\u001b[39;49;00m\u001b[43m,\u001b[49m\n\u001b[0;32m   2075\u001b[0m \u001b[43m    \u001b[49m\u001b[38;5;241;43m*\u001b[39;49m\u001b[38;5;241;43m*\u001b[39;49m\u001b[43mconfig_kwargs\u001b[49m\u001b[43m,\u001b[49m\n\u001b[0;32m   2076\u001b[0m \u001b[43m\u001b[49m\u001b[43m)\u001b[49m\n\u001b[0;32m   2078\u001b[0m \u001b[38;5;66;03m# Return iterable dataset in case of streaming\u001b[39;00m\n\u001b[0;32m   2079\u001b[0m \u001b[38;5;28;01mif\u001b[39;00m streaming:\n",
            "File \u001b[1;32mc:\\Users\\visha\\miniconda3\\envs\\mchatbot\\Lib\\site-packages\\datasets\\load.py:1781\u001b[0m, in \u001b[0;36mload_dataset_builder\u001b[1;34m(path, name, data_dir, data_files, cache_dir, features, download_config, download_mode, revision, token, storage_options, trust_remote_code, _require_default_config_name, **config_kwargs)\u001b[0m\n\u001b[0;32m   1779\u001b[0m     download_config \u001b[38;5;241m=\u001b[39m download_config\u001b[38;5;241m.\u001b[39mcopy() \u001b[38;5;28;01mif\u001b[39;00m download_config \u001b[38;5;28;01melse\u001b[39;00m DownloadConfig()\n\u001b[0;32m   1780\u001b[0m     download_config\u001b[38;5;241m.\u001b[39mstorage_options\u001b[38;5;241m.\u001b[39mupdate(storage_options)\n\u001b[1;32m-> 1781\u001b[0m dataset_module \u001b[38;5;241m=\u001b[39m \u001b[43mdataset_module_factory\u001b[49m\u001b[43m(\u001b[49m\n\u001b[0;32m   1782\u001b[0m \u001b[43m    \u001b[49m\u001b[43mpath\u001b[49m\u001b[43m,\u001b[49m\n\u001b[0;32m   1783\u001b[0m \u001b[43m    \u001b[49m\u001b[43mrevision\u001b[49m\u001b[38;5;241;43m=\u001b[39;49m\u001b[43mrevision\u001b[49m\u001b[43m,\u001b[49m\n\u001b[0;32m   1784\u001b[0m \u001b[43m    \u001b[49m\u001b[43mdownload_config\u001b[49m\u001b[38;5;241;43m=\u001b[39;49m\u001b[43mdownload_config\u001b[49m\u001b[43m,\u001b[49m\n\u001b[0;32m   1785\u001b[0m \u001b[43m    \u001b[49m\u001b[43mdownload_mode\u001b[49m\u001b[38;5;241;43m=\u001b[39;49m\u001b[43mdownload_mode\u001b[49m\u001b[43m,\u001b[49m\n\u001b[0;32m   1786\u001b[0m \u001b[43m    \u001b[49m\u001b[43mdata_dir\u001b[49m\u001b[38;5;241;43m=\u001b[39;49m\u001b[43mdata_dir\u001b[49m\u001b[43m,\u001b[49m\n\u001b[0;32m   1787\u001b[0m \u001b[43m    \u001b[49m\u001b[43mdata_files\u001b[49m\u001b[38;5;241;43m=\u001b[39;49m\u001b[43mdata_files\u001b[49m\u001b[43m,\u001b[49m\n\u001b[0;32m   1788\u001b[0m \u001b[43m    \u001b[49m\u001b[43mcache_dir\u001b[49m\u001b[38;5;241;43m=\u001b[39;49m\u001b[43mcache_dir\u001b[49m\u001b[43m,\u001b[49m\n\u001b[0;32m   1789\u001b[0m \u001b[43m    \u001b[49m\u001b[43mtrust_remote_code\u001b[49m\u001b[38;5;241;43m=\u001b[39;49m\u001b[43mtrust_remote_code\u001b[49m\u001b[43m,\u001b[49m\n\u001b[0;32m   1790\u001b[0m \u001b[43m    \u001b[49m\u001b[43m_require_default_config_name\u001b[49m\u001b[38;5;241;43m=\u001b[39;49m\u001b[43m_require_default_config_name\u001b[49m\u001b[43m,\u001b[49m\n\u001b[0;32m   1791\u001b[0m \u001b[43m    \u001b[49m\u001b[43m_require_custom_configs\u001b[49m\u001b[38;5;241;43m=\u001b[39;49m\u001b[38;5;28;43mbool\u001b[39;49m\u001b[43m(\u001b[49m\u001b[43mconfig_kwargs\u001b[49m\u001b[43m)\u001b[49m\u001b[43m,\u001b[49m\n\u001b[0;32m   1792\u001b[0m \u001b[43m\u001b[49m\u001b[43m)\u001b[49m\n\u001b[0;32m   1793\u001b[0m \u001b[38;5;66;03m# Get dataset builder class from the processing script\u001b[39;00m\n\u001b[0;32m   1794\u001b[0m builder_kwargs \u001b[38;5;241m=\u001b[39m dataset_module\u001b[38;5;241m.\u001b[39mbuilder_kwargs\n",
            "File \u001b[1;32mc:\\Users\\visha\\miniconda3\\envs\\mchatbot\\Lib\\site-packages\\datasets\\load.py:1669\u001b[0m, in \u001b[0;36mdataset_module_factory\u001b[1;34m(path, revision, download_config, download_mode, dynamic_modules_path, data_dir, data_files, cache_dir, trust_remote_code, _require_default_config_name, _require_custom_configs, **download_kwargs)\u001b[0m\n\u001b[0;32m   1665\u001b[0m     \u001b[38;5;28;01mraise\u001b[39;00m \u001b[38;5;167;01mFileNotFoundError\u001b[39;00m(\n\u001b[0;32m   1666\u001b[0m         \u001b[38;5;124mf\u001b[39m\u001b[38;5;124m\"\u001b[39m\u001b[38;5;124mCouldn\u001b[39m\u001b[38;5;124m'\u001b[39m\u001b[38;5;124mt find a dataset script at \u001b[39m\u001b[38;5;132;01m{\u001b[39;00mrelative_to_absolute_path(combined_path)\u001b[38;5;132;01m}\u001b[39;00m\u001b[38;5;124m or any data file in the same directory.\u001b[39m\u001b[38;5;124m\"\u001b[39m\n\u001b[0;32m   1667\u001b[0m     )\n\u001b[0;32m   1668\u001b[0m \u001b[38;5;28;01melse\u001b[39;00m:\n\u001b[1;32m-> 1669\u001b[0m     \u001b[38;5;28;01mraise\u001b[39;00m \u001b[38;5;167;01mFileNotFoundError\u001b[39;00m(\u001b[38;5;124mf\u001b[39m\u001b[38;5;124m\"\u001b[39m\u001b[38;5;124mCouldn\u001b[39m\u001b[38;5;124m'\u001b[39m\u001b[38;5;124mt find any data file at \u001b[39m\u001b[38;5;132;01m{\u001b[39;00mrelative_to_absolute_path(path)\u001b[38;5;132;01m}\u001b[39;00m\u001b[38;5;124m.\u001b[39m\u001b[38;5;124m\"\u001b[39m)\n",
            "\u001b[1;31mFileNotFoundError\u001b[0m: Couldn't find any data file at c:\\Users\\visha\\OneDrive\\Desktop\\Bank_System_Chatbot\\bitext\\Bank_System_Chatbot\\bitext\\bitext_dataset.csv."
          ]
        }
      ],
      "source": [
        "from datasets import load_dataset\n",
        "\n",
        "# Load the dataset from Hugging Face\n",
        "dataset = load_dataset('Bank_System_Chatbot/bitext/bitext_dataset.csv')\n",
        "\n",
        "# Check the structure of the dataset\n",
        "print(dataset)\n",
        "\n",
        "# If you want to access the training data (for example), use:\n",
        "train_data = dataset['train']\n",
        "\n",
        "\n"
      ]
    },
    {
      "cell_type": "markdown",
      "metadata": {},
      "source": [
        "Unique Values"
      ]
    },
    {
      "cell_type": "code",
      "execution_count": 2,
      "metadata": {
        "colab": {
          "base_uri": "https://localhost:8080/"
        },
        "id": "8Jg4NBrBey1f",
        "outputId": "4c78eebd-05c2-4159-8008-14589399031b"
      },
      "outputs": [
        {
          "name": "stdout",
          "output_type": "stream",
          "text": [
            "Feature: tags\n",
            "Unique Values: ['BCIPZ' 'BCILZ' 'BCIPQZ' 'BCLPQZ' 'BCILPZ' 'BLZ' 'BLPQ' 'BCILPQ' 'BCILQZ'\n",
            " 'B' 'BCILP' 'BCILPQZ' 'BCL' 'BI' 'BCIL' 'BCPQ' 'BIZ' 'BCIZ' 'BIQ' 'BL'\n",
            " 'BCQ' 'BCIPQ' 'BCI' 'BCIQZ' 'BILZ' 'BQZ' 'BQ' 'BCZ' 'BCLP' 'BLQ' 'BIPQ'\n",
            " 'BIPZ' 'BCIP' 'BILPZ' 'BILQ' 'BCLPZ' 'BC' 'BCLQ' 'BCLQZ' 'BCPQZ' 'BCIQ'\n",
            " 'BCILQ' 'BILP' 'BPQ' 'BIP' 'BCLZ' 'BCEQZ' 'BIL' 'BZ' 'BILPQ' 'BCQZ'\n",
            " 'BLQZ' 'BILQZ' 'BCLPQ' 'BILPQZ' 'BIQZ' 'BIPQZ' 'BLPZ' 'BCEIQ' 'BLPQZ'\n",
            " 'BCEIP' 'BPZ' 'BCEIQZ' 'BCPZ' 'BCEI' 'BP' 'BCEIPQ' 'BCP' 'BLP' 'BCEIPZ'\n",
            " 'BCEILP' 'BCELP' 'BCELQZ' 'BCEILPZ' 'BCEL' 'BCEILQ' 'BCEQ' 'BCELZ'\n",
            " 'BCEILZ' 'BCEIZ' 'BCELQ' 'BCEILPQ' 'BCEILPQZ' 'BCEIL' 'BCEILQZ' 'BCE'\n",
            " 'BCELPZ' 'BCEZ' 'BCELPQ' 'BCELPQZ' 'BPQZ' 'BCEP' 'BCEPZ' 'BEL' 'BCEIPQZ'\n",
            " 'BEZ' 'BEQZ' 'BELZ' 'BE' 'BEQ' 'BEILQZ' 'BEIQ' 'BCEPQ' 'BCEPQZ' 'BCIPQW'\n",
            " 'BWZ' 'BIQWZ' 'BIPQW' 'BCIW' 'BCIQWZ' 'BIQW' 'BCIPW' 'BCIQW' 'BCIPWZ'\n",
            " 'BIPWZ' 'BCIPQWZ' 'BCPW' 'BIWZ' 'BQW' 'BIPQWZ' 'BCIWZ' 'BCPQWZ' 'BCWZ'\n",
            " 'BIPW' 'BQWZ' 'BW' 'BIW' 'BCQW' 'BCW' 'BCPQW' 'BCQWZ' 'BPWZ' 'BCPWZ'\n",
            " 'BCEIMPQ' 'BCMPZ' 'BCIMPQW' 'BCIMPWZ' 'BCIMWZ' 'BMWZ' 'BIMPZ' 'BCEMQWZ'\n",
            " 'BCIMW' 'BCEIPQWZ' 'BCEIMPQWZ' 'BIMWZ' 'BCMWZ' 'BCIMP' 'BCILPQW' 'BCIMPQ'\n",
            " 'BCMPQZ' 'BIMPQZ' 'BCILMPQWZ' 'BCMPQW' 'BCMPQWZ' 'BCILMW' 'BCIMQWZ'\n",
            " 'BCEMQZ' 'BCIMQ' 'BCELMQW' 'BCIMPQWZ' 'BCLMPW' 'BCIMPQZ' 'BCILMQZ' 'BMQW'\n",
            " 'BCIMQW' 'BCIMQZ' 'BCELQWZ' 'BILM' 'BCEILMQ' 'BCIM' 'BMPW' 'BCEIMW'\n",
            " 'BCILMPZ' 'BCILMPQW' 'BCEIMZ' 'BCILPQWZ' 'BCIMPW' 'BCILMQ' 'BILMQ'\n",
            " 'BCLMPQZ' 'BCEIW' 'BLMW' 'BMPQWZ' 'BCILMP' 'BCLM' 'BMZ' 'BMW' 'BMPZ'\n",
            " 'BCIMPZ' 'BCEIMPQZ' 'BCILMZ' 'BCEIMQ' 'BCEILMZ' 'BLPQWZ' 'BCM' 'BCMQW'\n",
            " 'BCEILMPWZ' 'BILPQWZ' 'BCEIQW' 'BCEQWZ' 'BCILWZ' 'BCEILMPQWZ' 'BCIMZ'\n",
            " 'BCILMPQZ' 'BCMQWZ' 'BCILM' 'BCMQ' 'BCILMWZ' 'BCEMW' 'BLM' 'BCILMQW'\n",
            " 'BCILMPWZ' 'BILMP' 'BCELMZ' 'BM' 'BCELPW' 'BMQ' 'BEMW' 'BCLPQWZ'\n",
            " 'BCELMQZ' 'BCEIMWZ' 'BCEILMPW' 'BIMZ' 'BCMQZ' 'BCILMPQ' 'BMQWZ'\n",
            " 'BCELMQWZ' 'BCILPWZ' 'BCLMZ' 'BCLMQW' 'BCLMPQW' 'BCELMPQZ' 'BILMZ'\n",
            " 'BILMPZ' 'BCLMW' 'BCEILM' 'BIM' 'BCLMQWZ' 'BCEILMPQZ' 'BLMZ' 'BMQZ'\n",
            " 'BCMW' 'BCLPQW' 'BCLMPQ' 'BCLMWZ' 'BCILQW' 'BCILMQWZ' 'BILMQZ' 'BCEIMP'\n",
            " 'BCEM' 'BLMQWZ' 'BCILPW' 'BCELM' 'BCELMQ' 'BCMP' 'BCEIMPW' 'BIMQZ' 'BCLW'\n",
            " 'BIMPQWZ' 'BCEILPWZ' 'BCEIM' 'BLW' 'BCILMPW' 'BCEIMPWZ' 'BCLQWZ' 'BIMPW'\n",
            " 'BCLMPWZ' 'BIMQW' 'BCMPW' 'BCLMQZ' 'BIMP' 'BLMQZ' 'BCLWZ' 'BCEILMPQW'\n",
            " 'BILQW' 'BILMQW' 'BIMQ' 'BCMZ' 'BILMPQW' 'BCEW' 'BCILQWZ' 'BEMWZ' 'BILWZ'\n",
            " 'BILMPW' 'BIMPQ' 'BCEILWZ' 'BCEIMPZ' 'BCILW' 'BLMQW' 'BCLMPZ' 'BIMQWZ'\n",
            " 'BPQW' 'BCEILMQW' 'BCEILW' 'BCEIPW' 'BILMPQWZ' 'BCEILMPQ' 'BILQWZ'\n",
            " 'BIMPWZ' 'BCEIMQZ' 'BCEMQW' 'BCLMP' 'BILMW' 'BCEIPWZ' 'BCEIMPQW'\n",
            " 'BCEILPQWZ' 'BCEILMWZ' 'BCEILPW' 'BCEIQWZ' 'BCEILQWZ' 'BCEILPQW' 'BCEIWZ'\n",
            " 'BCEMQ' 'BCEILMPZ' 'BLQWZ' 'BLMPQW' 'BCMPQ' 'BPW' 'BILMQWZ' 'BCELMWZ'\n",
            " 'BCELMPW' 'BILMPQ' 'BCEILMQWZ' 'BCLMQ' 'BCELW' 'BCEIMQWZ' 'BCLQW'\n",
            " 'BILPQW' 'BLQW' 'BILW' 'BLWZ' 'BPQWZ' 'BCLPW' 'BCLPWZ' 'BILPW' 'BLPQW'\n",
            " 'BILPWZ' 'BELQW' 'BLPWZ' 'BCEMZ' 'BCEILMQZ' 'BEMQZ' 'BCEILMP' 'BCEMPQZ'\n",
            " 'BCELMPZ' 'BEM' 'BILMPQZ' 'BMPQZ' 'BLMP' 'BLMPQZ' 'BLMQ' 'BMP' 'BLMPZ'\n",
            " 'BLMPQ' 'BLPW' 'BCEILQW' 'BCEIPQW' 'BELWZ' 'BCELWZ' 'BCELQW' 'BCELPWZ'\n",
            " 'BCELPQW' 'BELQWZ' 'BCELPQWZ' 'BELW' 'BEIQZ' 'BELQ' 'BELQZ' 'BCEQW'\n",
            " 'BCEWZ']\n",
            "Total Unique Values: 370\n",
            "--------------------------------------------------\n",
            "Feature: instruction\n",
            "Unique Values: ['I would like to acivate a card, can you help me?'\n",
            " 'I have to activate an Visa online, how can I do it?'\n",
            " \"I'd like to actiate a card where do i do it\" ...\n",
            " \"I'd like to set  up a password, will you help me?\"\n",
            " 'wanna set up a password i need assistance'\n",
            " 'I got to set up a apssword, could you help me?']\n",
            "Total Unique Values: 25545\n",
            "--------------------------------------------------\n",
            "Feature: category\n",
            "Unique Values: ['CARD' 'LOAN' 'TRANSFER' 'FEES' 'ACCOUNT' 'CONTACT' 'ATM' 'FIND'\n",
            " 'PASSWORD']\n",
            "Total Unique Values: 9\n",
            "--------------------------------------------------\n",
            "Feature: intent\n",
            "Unique Values: ['activate_card' 'activate_card_international_usage' 'apply_for_loan'\n",
            " 'apply_for_mortgage' 'block_card' 'cancel_card' 'cancel_loan'\n",
            " 'cancel_mortgage' 'cancel_transfer' 'check_card_annual_fee'\n",
            " 'check_current_balance_on_card' 'check_fees' 'check_loan_payments'\n",
            " 'check_mortgage_payments' 'check_recent_transactions' 'close_account'\n",
            " 'create_account' 'customer_service' 'dispute_ATM_withdrawal' 'find_ATM'\n",
            " 'find_branch' 'get_password' 'human_agent' 'make_transfer'\n",
            " 'recover_swallowed_card' 'set_up_password']\n",
            "Total Unique Values: 26\n",
            "--------------------------------------------------\n",
            "Feature: response\n",
            "Unique Values: ['I\\'m here to assist you with that! Activating your card is an important step to starting and enjoying its benefits. Here\\'s how you can activate your card:\\n\\n1. Locate the activation instructions: Depending on the card issuer, you may find the activation instructions on a sticker attached to the card itself, in the welcome package, or on the issuer\\'s website.\\n\\n2. Visit the card issuer\\'s activation website: Using your computer or mobile device, open a web browser and navigate to the card issuer\\'s website. Look for the activation page or section.\\n\\n3. Enter the required information: Follow the prompts on the activation page and provide the necessary information. This may include your card number, personal details, and security code.\\n\\n4. Set up your card: Once you\\'ve entered the required information, you may have the option to set up a PIN, create an online account, or choose additional security features. Follow the instructions provided.\\n\\n5. Confirm activation: After entering all the necessary details and setting up any additional features, review the information you\\'ve provided and click on the \"Activate\" or \"Confirm\" button. \\n\\n6. Await confirmation: In most cases, you\\'ll receive a confirmation message either on the website or through email or SMS indicating that your card has been successfully activated.\\n\\nIf you encounter any issues during the activation process or have any questions, please don\\'t hesitate to reach out. I\\'m here to assist you every step of the way!'\n",
            " 'I\\'m here to assist you with activating your {{Credit Card}} online. To activate your {{Credit Card}}, please follow these steps:\\n\\n1. Visit the official website of your card issuer.\\n2. Look for the \"Activate Card\" or \"Card Activation\" option.\\n3. Click on the option and enter your card details as requested. This may include your card number, expiration date, CVV, and personal information.\\n4. Follow the prompts to complete the activation process.\\n5. Once successfully activated, your {{Credit Card}} will be ready to use.\\n\\nIf you encounter any issues during the activation process or have any further questions, please don\\'t hesitate to reach out. Happy to help!'\n",
            " 'I can help you with that! Activating your card is easy. Here\\'s what you need to do:\\n\\n1. If you received your card by mail, it may already be activated. Check the instructions that came with your card or any activation sticker.\\n2. If you need to activate your card online, visit our website at {{Company Website URL}}.\\n3. Look for the \"Card Activation\" or \"Activate Card\" section on our website.\\n4. Enter the required information, such as your card number, name, and other details as prompted.\\n5. Follow the on-screen instructions to complete the activation process.\\n6. If you encounter any issues or need further assistance, feel free to contact our Customer Support team at {{Customer Support Phone Number}}. They\\'re available {{Customer Support Working Hours}} and will be happy to assist you.\\n\\nOnce your card is activated, you\\'ll be ready to start using it. If you have any other questions or need additional help, please let me know!'\n",
            " ...\n",
            " 'I\\'m here to assist you in setting up your password for your account. Protecting your account is crucial to ensure the security of your personal information. Here\\'s how you can set up a password:\\n\\n1. Go to the login page on our website.\\n2. Look for the \"Forgot Password\" option and click on it.\\n3. Enter your registered email address associated with your account.\\n4. You\\'ll receive an email with instructions on how to reset your password.\\n5. Follow the link provided in the email and create a new password for your account.\\n6. Make sure to choose a strong, unique password that includes a combination of letters, numbers, and special characters.\\n7. Once you\\'ve set your new password, you should be able to log in to your account successfully.\\n\\nIf you encounter any difficulties during the process, feel free to reach out to our customer support team at {{Customer Support Phone Number}} or through our live chat on our website at {{Company Website URL}}. We\\'re here to help you every step of the way!'\n",
            " 'I\\'m here to assist you in setting up your password. Securing your account is essential to keep your personal information safe. Here\\'s a step-by-step guide for you:\\n\\n1. Visit our website and go to the login page.\\n2. Look for the \"Forgot Password\" or \"Create Account\" option and click on it.\\n3. You will be prompted to enter your {{Email Address}} or {{Username}} associated with your account.\\n4. Check your email inbox for a password reset link or account creation confirmation email.\\n5. Open the email and follow the instructions provided. If resetting your password, make sure to choose a strong and unique password.\\n6. Once you have completed the steps, go back to the login page and enter your new password.\\n7. Congratulations! Your password has been successfully set up.\\n\\nIf you encounter any difficulties or have any other questions, feel free to let me know. Your account security is our top priority, and I\\'m here to assist you every step of the way.'\n",
            " 'I\\'d be happy to assist you in setting up a password. To get started, please follow these steps:\\n\\n1. Visit our website at {{Company Website URL}}.\\n2. Look for the \"Sign Up\" or \"Create Account\" option.\\n3. Click on it and you\\'ll be directed to the account creation page.\\n4. Fill in the required personal information, such as your {{Name}} and {{Email Address}}.\\n5. When prompted, create a strong and unique password. Make sure it includes a combination of letters, numbers, and special characters.\\n6. Double-check the password to ensure it\\'s entered correctly.\\n7. Click on the \"Submit\" or \"Create Account\" button to finalize the process.\\n\\nIf you encounter any issues or have further questions, feel free to reach out to our customer support team at {{Customer Support Phone Number}} or through the live chat feature on our website. We\\'re here to help you every step of the way!']\n",
            "Total Unique Values: 25545\n",
            "--------------------------------------------------\n"
          ]
        }
      ],
      "source": [
        "# Convert dataset to a Pandas DataFrame for easier analysis\n",
        "import pandas as pd\n",
        "df = pd.DataFrame(train_data)\n",
        "\n",
        "# Print unique values for each feature\n",
        "for column in df.columns:\n",
        "    unique_values = df[column].unique()\n",
        "    print(f\"Feature: {column}\")\n",
        "    print(f\"Unique Values: {unique_values[:]}\")  # Display first 10 unique values\n",
        "    print(f\"Total Unique Values: {len(unique_values)}\")\n",
        "    print(\"-\" * 50)"
      ]
    },
    {
      "cell_type": "markdown",
      "metadata": {},
      "source": [
        "Data Visualization"
      ]
    },
    {
      "cell_type": "code",
      "execution_count": 4,
      "metadata": {},
      "outputs": [
        {
          "name": "stdout",
          "output_type": "stream",
          "text": [
            "Requirement already satisfied: seaborn in c:\\users\\visha\\miniconda3\\lib\\site-packages (0.13.2)\n",
            "Requirement already satisfied: numpy!=1.24.0,>=1.20 in c:\\users\\visha\\miniconda3\\lib\\site-packages (from seaborn) (2.0.2)\n",
            "Requirement already satisfied: pandas>=1.2 in c:\\users\\visha\\miniconda3\\lib\\site-packages (from seaborn) (2.2.3)\n",
            "Requirement already satisfied: matplotlib!=3.6.1,>=3.4 in c:\\users\\visha\\miniconda3\\lib\\site-packages (from seaborn) (3.10.1)\n",
            "Requirement already satisfied: contourpy>=1.0.1 in c:\\users\\visha\\miniconda3\\lib\\site-packages (from matplotlib!=3.6.1,>=3.4->seaborn) (1.3.1)\n",
            "Requirement already satisfied: cycler>=0.10 in c:\\users\\visha\\miniconda3\\lib\\site-packages (from matplotlib!=3.6.1,>=3.4->seaborn) (0.12.1)\n",
            "Requirement already satisfied: fonttools>=4.22.0 in c:\\users\\visha\\miniconda3\\lib\\site-packages (from matplotlib!=3.6.1,>=3.4->seaborn) (4.56.0)\n",
            "Requirement already satisfied: kiwisolver>=1.3.1 in c:\\users\\visha\\miniconda3\\lib\\site-packages (from matplotlib!=3.6.1,>=3.4->seaborn) (1.4.8)\n",
            "Requirement already satisfied: packaging>=20.0 in c:\\users\\visha\\miniconda3\\lib\\site-packages (from matplotlib!=3.6.1,>=3.4->seaborn) (24.2)\n",
            "Requirement already satisfied: pillow>=8 in c:\\users\\visha\\miniconda3\\lib\\site-packages (from matplotlib!=3.6.1,>=3.4->seaborn) (11.1.0)\n",
            "Requirement already satisfied: pyparsing>=2.3.1 in c:\\users\\visha\\miniconda3\\lib\\site-packages (from matplotlib!=3.6.1,>=3.4->seaborn) (3.2.1)\n",
            "Requirement already satisfied: python-dateutil>=2.7 in c:\\users\\visha\\miniconda3\\lib\\site-packages (from matplotlib!=3.6.1,>=3.4->seaborn) (2.9.0.post0)\n",
            "Requirement already satisfied: pytz>=2020.1 in c:\\users\\visha\\miniconda3\\lib\\site-packages (from pandas>=1.2->seaborn) (2025.1)\n",
            "Requirement already satisfied: tzdata>=2022.7 in c:\\users\\visha\\miniconda3\\lib\\site-packages (from pandas>=1.2->seaborn) (2025.1)\n",
            "Requirement already satisfied: six>=1.5 in c:\\users\\visha\\miniconda3\\lib\\site-packages (from python-dateutil>=2.7->matplotlib!=3.6.1,>=3.4->seaborn) (1.17.0)\n"
          ]
        }
      ],
      "source": [
        "!pip install seaborn"
      ]
    },
    {
      "cell_type": "code",
      "execution_count": 3,
      "metadata": {},
      "outputs": [
        {
          "ename": "ModuleNotFoundError",
          "evalue": "No module named 'seaborn'",
          "output_type": "error",
          "traceback": [
            "\u001b[1;31m---------------------------------------------------------------------------\u001b[0m",
            "\u001b[1;31mModuleNotFoundError\u001b[0m                       Traceback (most recent call last)",
            "Cell \u001b[1;32mIn[3], line 2\u001b[0m\n\u001b[0;32m      1\u001b[0m \u001b[38;5;28;01mimport\u001b[39;00m\u001b[38;5;250m \u001b[39m\u001b[38;5;21;01mmatplotlib\u001b[39;00m\u001b[38;5;21;01m.\u001b[39;00m\u001b[38;5;21;01mpyplot\u001b[39;00m\u001b[38;5;250m \u001b[39m\u001b[38;5;28;01mas\u001b[39;00m\u001b[38;5;250m \u001b[39m\u001b[38;5;21;01mplt\u001b[39;00m\n\u001b[1;32m----> 2\u001b[0m \u001b[38;5;28;01mimport\u001b[39;00m\u001b[38;5;250m \u001b[39m\u001b[38;5;21;01mseaborn\u001b[39;00m\u001b[38;5;250m \u001b[39m\u001b[38;5;28;01mas\u001b[39;00m\u001b[38;5;250m \u001b[39m\u001b[38;5;21;01msns\u001b[39;00m\n\u001b[0;32m      4\u001b[0m \u001b[38;5;66;03m# Count occurrences of each category\u001b[39;00m\n\u001b[0;32m      5\u001b[0m category_counts \u001b[38;5;241m=\u001b[39m df[\u001b[38;5;124m'\u001b[39m\u001b[38;5;124mcategory\u001b[39m\u001b[38;5;124m'\u001b[39m]\u001b[38;5;241m.\u001b[39mvalue_counts()\n",
            "\u001b[1;31mModuleNotFoundError\u001b[0m: No module named 'seaborn'"
          ]
        }
      ],
      "source": [
        "import matplotlib.pyplot as plt\n",
        "import seaborn as sns\n",
        "\n",
        "# Count occurrences of each category\n",
        "category_counts = df['category'].value_counts()\n",
        "\n",
        "# Create the bar plot\n",
        "plt.figure(figsize=(12, 6))\n",
        "sns.barplot(x=category_counts.index, y=category_counts.values, palette=\"viridis\")\n",
        "\n",
        "# Add titles and labels\n",
        "plt.title(\"Distribution of Categories\", fontsize=14)\n",
        "plt.xlabel(\"Category\", fontsize=12)\n",
        "plt.ylabel(\"Count\", fontsize=12)\n",
        "plt.xticks(rotation=45)  # Rotate labels for better readability\n",
        "\n",
        "# Show the plot\n"
      ]
    },
    {
      "cell_type": "code",
      "execution_count": 6,
      "metadata": {
        "colab": {
          "base_uri": "https://localhost:8080/"
        },
        "id": "2EcSFSrohE4n",
        "outputId": "8f770050-297d-44d6-9aa7-eac4f4f7534d"
      },
      "outputs": [
        {
          "name": "stdout",
          "output_type": "stream",
          "text": [
            "['BCIPZ' 'BCILZ' 'BCIPQZ' 'BCLPQZ' 'BCILPZ' 'BLZ' 'BLPQ' 'BCILPQ' 'BCILQZ'\n",
            " 'B' 'BCILP' 'BCILPQZ' 'BCL' 'BI' 'BCIL' 'BCPQ' 'BIZ' 'BCIZ' 'BIQ' 'BL'\n",
            " 'BCQ' 'BCIPQ' 'BCI' 'BCIQZ' 'BILZ' 'BQZ' 'BQ' 'BCZ' 'BCLP' 'BLQ' 'BIPQ'\n",
            " 'BIPZ' 'BCIP' 'BILPZ' 'BILQ' 'BCLPZ' 'BC' 'BCLQ' 'BCLQZ' 'BCPQZ' 'BCIQ'\n",
            " 'BCILQ' 'BILP' 'BPQ' 'BIP' 'BCLZ' 'BCEQZ' 'BIL' 'BZ' 'BILPQ' 'BCQZ'\n",
            " 'BLQZ' 'BILQZ' 'BCLPQ' 'BILPQZ' 'BIQZ' 'BIPQZ' 'BLPZ' 'BCEIQ' 'BLPQZ'\n",
            " 'BCEIP' 'BPZ' 'BCEIQZ' 'BCPZ' 'BCEI' 'BP' 'BCEIPQ' 'BCP' 'BLP' 'BCEIPZ'\n",
            " 'BCEILP' 'BCELP' 'BCELQZ' 'BCEILPZ' 'BCEL' 'BCEILQ' 'BCEQ' 'BCELZ'\n",
            " 'BCEILZ' 'BCEIZ' 'BCELQ' 'BCEILPQ' 'BCEILPQZ' 'BCEIL' 'BCEILQZ' 'BCE'\n",
            " 'BCELPZ' 'BCEZ' 'BCELPQ' 'BCELPQZ' 'BPQZ' 'BCEP' 'BCEPZ' 'BEL' 'BCEIPQZ'\n",
            " 'BEZ' 'BEQZ' 'BELZ' 'BE' 'BEQ' 'BEILQZ' 'BEIQ' 'BCEPQ' 'BCEPQZ' 'BCIPQW'\n",
            " 'BWZ' 'BIQWZ' 'BIPQW' 'BCIW' 'BCIQWZ' 'BIQW' 'BCIPW' 'BCIQW' 'BCIPWZ'\n",
            " 'BIPWZ' 'BCIPQWZ' 'BCPW' 'BIWZ' 'BQW' 'BIPQWZ' 'BCIWZ' 'BCPQWZ' 'BCWZ'\n",
            " 'BIPW' 'BQWZ' 'BW' 'BIW' 'BCQW' 'BCW' 'BCPQW' 'BCQWZ' 'BPWZ' 'BCPWZ'\n",
            " 'BCEIMPQ' 'BCMPZ' 'BCIMPQW' 'BCIMPWZ' 'BCIMWZ' 'BMWZ' 'BIMPZ' 'BCEMQWZ'\n",
            " 'BCIMW' 'BCEIPQWZ' 'BCEIMPQWZ' 'BIMWZ' 'BCMWZ' 'BCIMP' 'BCILPQW' 'BCIMPQ'\n",
            " 'BCMPQZ' 'BIMPQZ' 'BCILMPQWZ' 'BCMPQW' 'BCMPQWZ' 'BCILMW' 'BCIMQWZ'\n",
            " 'BCEMQZ' 'BCIMQ' 'BCELMQW' 'BCIMPQWZ' 'BCLMPW' 'BCIMPQZ' 'BCILMQZ' 'BMQW'\n",
            " 'BCIMQW' 'BCIMQZ' 'BCELQWZ' 'BILM' 'BCEILMQ' 'BCIM' 'BMPW' 'BCEIMW'\n",
            " 'BCILMPZ' 'BCILMPQW' 'BCEIMZ' 'BCILPQWZ' 'BCIMPW' 'BCILMQ' 'BILMQ'\n",
            " 'BCLMPQZ' 'BCEIW' 'BLMW' 'BMPQWZ' 'BCILMP' 'BCLM' 'BMZ' 'BMW' 'BMPZ'\n",
            " 'BCIMPZ' 'BCEIMPQZ' 'BCILMZ' 'BCEIMQ' 'BCEILMZ' 'BLPQWZ' 'BCM' 'BCMQW'\n",
            " 'BCEILMPWZ' 'BILPQWZ' 'BCEIQW' 'BCEQWZ' 'BCILWZ' 'BCEILMPQWZ' 'BCIMZ'\n",
            " 'BCILMPQZ' 'BCMQWZ' 'BCILM' 'BCMQ' 'BCILMWZ' 'BCEMW' 'BLM' 'BCILMQW'\n",
            " 'BCILMPWZ' 'BILMP' 'BCELMZ' 'BM' 'BCELPW' 'BMQ' 'BEMW' 'BCLPQWZ'\n",
            " 'BCELMQZ' 'BCEIMWZ' 'BCEILMPW' 'BIMZ' 'BCMQZ' 'BCILMPQ' 'BMQWZ'\n",
            " 'BCELMQWZ' 'BCILPWZ' 'BCLMZ' 'BCLMQW' 'BCLMPQW' 'BCELMPQZ' 'BILMZ'\n",
            " 'BILMPZ' 'BCLMW' 'BCEILM' 'BIM' 'BCLMQWZ' 'BCEILMPQZ' 'BLMZ' 'BMQZ'\n",
            " 'BCMW' 'BCLPQW' 'BCLMPQ' 'BCLMWZ' 'BCILQW' 'BCILMQWZ' 'BILMQZ' 'BCEIMP'\n",
            " 'BCEM' 'BLMQWZ' 'BCILPW' 'BCELM' 'BCELMQ' 'BCMP' 'BCEIMPW' 'BIMQZ' 'BCLW'\n",
            " 'BIMPQWZ' 'BCEILPWZ' 'BCEIM' 'BLW' 'BCILMPW' 'BCEIMPWZ' 'BCLQWZ' 'BIMPW'\n",
            " 'BCLMPWZ' 'BIMQW' 'BCMPW' 'BCLMQZ' 'BIMP' 'BLMQZ' 'BCLWZ' 'BCEILMPQW'\n",
            " 'BILQW' 'BILMQW' 'BIMQ' 'BCMZ' 'BILMPQW' 'BCEW' 'BCILQWZ' 'BEMWZ' 'BILWZ'\n",
            " 'BILMPW' 'BIMPQ' 'BCEILWZ' 'BCEIMPZ' 'BCILW' 'BLMQW' 'BCLMPZ' 'BIMQWZ'\n",
            " 'BPQW' 'BCEILMQW' 'BCEILW' 'BCEIPW' 'BILMPQWZ' 'BCEILMPQ' 'BILQWZ'\n",
            " 'BIMPWZ' 'BCEIMQZ' 'BCEMQW' 'BCLMP' 'BILMW' 'BCEIPWZ' 'BCEIMPQW'\n",
            " 'BCEILPQWZ' 'BCEILMWZ' 'BCEILPW' 'BCEIQWZ' 'BCEILQWZ' 'BCEILPQW' 'BCEIWZ'\n",
            " 'BCEMQ' 'BCEILMPZ' 'BLQWZ' 'BLMPQW' 'BCMPQ' 'BPW' 'BILMQWZ' 'BCELMWZ'\n",
            " 'BCELMPW' 'BILMPQ' 'BCEILMQWZ' 'BCLMQ' 'BCELW' 'BCEIMQWZ' 'BCLQW'\n",
            " 'BILPQW' 'BLQW' 'BILW' 'BLWZ' 'BPQWZ' 'BCLPW' 'BCLPWZ' 'BILPW' 'BLPQW'\n",
            " 'BILPWZ' 'BELQW' 'BLPWZ' 'BCEMZ' 'BCEILMQZ' 'BEMQZ' 'BCEILMP' 'BCEMPQZ'\n",
            " 'BCELMPZ' 'BEM' 'BILMPQZ' 'BMPQZ' 'BLMP' 'BLMPQZ' 'BLMQ' 'BMP' 'BLMPZ'\n",
            " 'BLMPQ' 'BLPW' 'BCEILQW' 'BCEIPQW' 'BELWZ' 'BCELWZ' 'BCELQW' 'BCELPWZ'\n",
            " 'BCELPQW' 'BELQWZ' 'BCELPQWZ' 'BELW' 'BEIQZ' 'BELQ' 'BELQZ' 'BCEQW'\n",
            " 'BCEWZ']\n"
          ]
        }
      ],
      "source": [
        "# Find unique tags in the dataset\n",
        "print(df[\"tags\"].unique())\n",
        "    "
      ]
    },
    {
      "cell_type": "markdown",
      "metadata": {},
      "source": [
        " Check for Missing Values\n",
        "\n"
      ]
    },
    {
      "cell_type": "code",
      "execution_count": 4,
      "metadata": {
        "id": "ktR46AcuhE7V"
      },
      "outputs": [
        {
          "name": "stdout",
          "output_type": "stream",
          "text": [
            "tags           0\n",
            "instruction    0\n",
            "category       0\n",
            "intent         0\n",
            "response       0\n",
            "dtype: int64\n"
          ]
        }
      ],
      "source": [
        "# Count missing values in each column\n",
        "print(df.isnull().sum())"
      ]
    },
    {
      "cell_type": "markdown",
      "metadata": {},
      "source": [
        "Check for Duplicates"
      ]
    },
    {
      "cell_type": "code",
      "execution_count": 5,
      "metadata": {},
      "outputs": [
        {
          "name": "stdout",
          "output_type": "stream",
          "text": [
            "Duplicate Rows: 0\n"
          ]
        }
      ],
      "source": [
        "# Count duplicate rows\n",
        "print(\"Duplicate Rows:\", df.duplicated().sum())"
      ]
    },
    {
      "cell_type": "markdown",
      "metadata": {},
      "source": [
        " Summary Statistics"
      ]
    },
    {
      "cell_type": "code",
      "execution_count": 6,
      "metadata": {},
      "outputs": [
        {
          "name": "stdout",
          "output_type": "stream",
          "text": [
            "         tags                                       instruction category  \\\n",
            "count   25545                                             25545    25545   \n",
            "unique    370                                             25545        9   \n",
            "top     BCIPZ  I would like to acivate a card, can you help me?     CARD   \n",
            "freq      818                                                 1     5980   \n",
            "\n",
            "               intent                                           response  \n",
            "count           25545                                              25545  \n",
            "unique             26                                              25545  \n",
            "top     activate_card  I'm here to assist you with that! Activating y...  \n",
            "freq             1000                                                  1  \n"
          ]
        }
      ],
      "source": [
        "\n",
        "print(df.describe())"
      ]
    },
    {
      "cell_type": "code",
      "execution_count": null,
      "metadata": {},
      "outputs": [],
      "source": []
    }
  ],
  "metadata": {
    "accelerator": "GPU",
    "colab": {
      "gpuType": "T4",
      "provenance": []
    },
    "kernelspec": {
      "display_name": "mchatbot",
      "language": "python",
      "name": "python3"
    },
    "language_info": {
      "codemirror_mode": {
        "name": "ipython",
        "version": 3
      },
      "file_extension": ".py",
      "mimetype": "text/x-python",
      "name": "python",
      "nbconvert_exporter": "python",
      "pygments_lexer": "ipython3",
      "version": "3.13.2"
    }
  },
  "nbformat": 4,
  "nbformat_minor": 0
}
