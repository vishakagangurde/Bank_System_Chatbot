{
  "cells": [
    {
      "cell_type": "code",
      "execution_count": 1,
      "metadata": {
        "colab": {
          "base_uri": "https://localhost:8080/"
        },
        "collapsed": true,
        "id": "SFTwsVJBdb03",
        "outputId": "b2752526-ce42-4d2a-84ea-3df36a70a0b0"
      },
      "outputs": [],
      "source": [
        "# !pip install datasets\n",
        "\n"
      ]
    },
    {
      "cell_type": "code",
      "execution_count": 1,
      "metadata": {},
      "outputs": [],
      "source": [
        "# Define file paths\n",
        "csv_file = \"bitext/Bitext-retail-banking-llm-chatbot-training-dataset.csv\"\n",
        "json_file = \"bitext/Bitext-retail-banking-llm-chatbot-training-dataset.json\""
      ]
    },
    {
      "cell_type": "markdown",
      "metadata": {},
      "source": [
        "Loading the Dataset"
      ]
    },
    {
      "cell_type": "code",
      "execution_count": null,
      "metadata": {
        "colab": {
          "base_uri": "https://localhost:8080/"
        },
        "id": "rWRLfS0AdRtl",
        "outputId": "5331c186-bb18-4667-f879-e7387bf0ffcc"
      },
      "outputs": [
        {
          "name": "stderr",
          "output_type": "stream",
          "text": [
            "c:\\Users\\visha\\miniconda3\\Lib\\site-packages\\tqdm\\auto.py:21: TqdmWarning: IProgress not found. Please update jupyter and ipywidgets. See https://ipywidgets.readthedocs.io/en/stable/user_install.html\n",
            "  from .autonotebook import tqdm as notebook_tqdm\n"
          ]
        }
      ],
      "source": [
        "from datasets import load_dataset\n",
        "\n",
        "# Load the dataset from Hugging Face\n",
        "dataset = load_dataset('bitext/Bitext-retail-banking-llm-chatbot-training-dataset')\n",
        "\n",
        "# Check the structure of the dataset\n",
        "print(dataset)\n",
        "\n",
        "# If you want to access the training data (for example), use:\n",
        "train_data = dataset['train']\n",
        "\n",
        "\n"
      ]
    },
    {
      "cell_type": "markdown",
      "metadata": {},
      "source": [
        "Unique Values"
      ]
    },
    {
      "cell_type": "code",
      "execution_count": null,
      "metadata": {
        "colab": {
          "base_uri": "https://localhost:8080/"
        },
        "id": "8Jg4NBrBey1f",
        "outputId": "4c78eebd-05c2-4159-8008-14589399031b"
      },
      "outputs": [
        {
          "name": "stdout",
          "output_type": "stream",
          "text": [
            "Feature: tags\n",
            "Unique Values: ['BCIPZ' 'BCILZ' 'BCIPQZ' 'BCLPQZ' 'BCILPZ' 'BLZ' 'BLPQ' 'BCILPQ' 'BCILQZ'\n",
            " 'B']\n",
            "Total Unique Values: 370\n",
            "--------------------------------------------------\n",
            "Feature: instruction\n",
            "Unique Values: ['I would like to acivate a card, can you help me?'\n",
            " 'I have to activate an Visa online, how can I do it?'\n",
            " \"I'd like to actiate a card where do i do it\"\n",
            " \"I'd likke to activate a visa on mobile i need assistance\"\n",
            " 'I would ilke to activate a credit card online, will you help me?'\n",
            " 'activate a cfredit card'\n",
            " 'I received a new card and I want to activate it, will oyu help me?'\n",
            " 'id like to activate a visa online'\n",
            " 'I got to activaste a card, could I get some help?'\n",
            " 'I have to activatean Amex on mobile, will you help me?']\n",
            "Total Unique Values: 25545\n",
            "--------------------------------------------------\n",
            "Feature: category\n",
            "Unique Values: ['CARD' 'LOAN' 'TRANSFER' 'FEES' 'ACCOUNT' 'CONTACT' 'ATM' 'FIND'\n",
            " 'PASSWORD']\n",
            "Total Unique Values: 9\n",
            "--------------------------------------------------\n",
            "Feature: intent\n",
            "Unique Values: ['activate_card' 'activate_card_international_usage' 'apply_for_loan'\n",
            " 'apply_for_mortgage' 'block_card' 'cancel_card' 'cancel_loan'\n",
            " 'cancel_mortgage' 'cancel_transfer' 'check_card_annual_fee']\n",
            "Total Unique Values: 26\n",
            "--------------------------------------------------\n",
            "Feature: response\n",
            "Unique Values: ['I\\'m here to assist you with that! Activating your card is an important step to starting and enjoying its benefits. Here\\'s how you can activate your card:\\n\\n1. Locate the activation instructions: Depending on the card issuer, you may find the activation instructions on a sticker attached to the card itself, in the welcome package, or on the issuer\\'s website.\\n\\n2. Visit the card issuer\\'s activation website: Using your computer or mobile device, open a web browser and navigate to the card issuer\\'s website. Look for the activation page or section.\\n\\n3. Enter the required information: Follow the prompts on the activation page and provide the necessary information. This may include your card number, personal details, and security code.\\n\\n4. Set up your card: Once you\\'ve entered the required information, you may have the option to set up a PIN, create an online account, or choose additional security features. Follow the instructions provided.\\n\\n5. Confirm activation: After entering all the necessary details and setting up any additional features, review the information you\\'ve provided and click on the \"Activate\" or \"Confirm\" button. \\n\\n6. Await confirmation: In most cases, you\\'ll receive a confirmation message either on the website or through email or SMS indicating that your card has been successfully activated.\\n\\nIf you encounter any issues during the activation process or have any questions, please don\\'t hesitate to reach out. I\\'m here to assist you every step of the way!'\n",
            " 'I\\'m here to assist you with activating your {{Credit Card}} online. To activate your {{Credit Card}}, please follow these steps:\\n\\n1. Visit the official website of your card issuer.\\n2. Look for the \"Activate Card\" or \"Card Activation\" option.\\n3. Click on the option and enter your card details as requested. This may include your card number, expiration date, CVV, and personal information.\\n4. Follow the prompts to complete the activation process.\\n5. Once successfully activated, your {{Credit Card}} will be ready to use.\\n\\nIf you encounter any issues during the activation process or have any further questions, please don\\'t hesitate to reach out. Happy to help!'\n",
            " 'I can help you with that! Activating your card is easy. Here\\'s what you need to do:\\n\\n1. If you received your card by mail, it may already be activated. Check the instructions that came with your card or any activation sticker.\\n2. If you need to activate your card online, visit our website at {{Company Website URL}}.\\n3. Look for the \"Card Activation\" or \"Activate Card\" section on our website.\\n4. Enter the required information, such as your card number, name, and other details as prompted.\\n5. Follow the on-screen instructions to complete the activation process.\\n6. If you encounter any issues or need further assistance, feel free to contact our Customer Support team at {{Customer Support Phone Number}}. They\\'re available {{Customer Support Working Hours}} and will be happy to assist you.\\n\\nOnce your card is activated, you\\'ll be ready to start using it. If you have any other questions or need additional help, please let me know!'\n",
            " 'I\\'m here to assist you with activating your {{Credit Card}} on your mobile device. Activating your card is a simple process. Here\\'s what you need to do:\\n\\n1. Download the {{Banking App}} from your app store and log in to your account.\\n2. Navigate to the \"{{Card Services}}\" or \"{{Manage Cards}}\" section.\\n3. Look for the option to activate your card and select it.\\n4. Follow the on-screen prompts to enter the required information, such as your card number, expiration date, and CVV.\\n5. Once you\\'ve entered the necessary details, submit the activation request.\\n6. You may be asked to create a PIN for your card during the activation process.\\n\\nIf you encounter any difficulties or have any questions along the way, please don\\'t hesitate to reach out. I\\'m here to help you throughout the activation process.'\n",
            " 'I\\'m here to assist you with activating your credit card online. Activating your credit card is a simple and convenient process. Here\\'s what you need to do:\\n\\n1. Visit the website of your credit card provider.\\n2. Look for the \"Activate Card\" or \"Card Activation\" option. It is usually located in the \"Services\" or \"Customer Support\" section.\\n3. Click on the option and follow the prompts to enter the required information, such as your card number, expiration date, and security code.\\n4. Once you\\'ve entered the necessary details, verify the information and submit the activation request.\\n5. In some cases, you may need to create an online account or log in to an existing account before activating your card.\\n\\nIf you encounter any difficulties or have any questions during the activation process, feel free to reach out to the customer support team of your credit card provider. They will be more than happy to assist you further.\\n\\nPlease note that it\\'s important to keep your credit card information secure and never share it with anyone.'\n",
            " \"I'm here to help you activate your credit card. To get started, please follow these steps:\\n\\n1. Locate the sticker on the front of your credit card containing the activation instructions.\\n2. You may need to visit the bank's website or call their customer service number to complete the activation process. The contact details can be found on the back of your credit card or in the instruction booklet provided with your card.\\n3. Follow the prompts on the website or provide the necessary information over the phone to activate your card.\\n4. Once the activation process is complete, you should receive a confirmation message or email.\\n\\nIf you encounter any issues or need further assistance, don't hesitate to reach out to the bank's customer service team at {{Customer Service Phone Number}}. They will be more than happy to guide you through the activation process.\\n\\nLet me know if there's anything else I can assist you with!\"\n",
            " \"Congratulations on receiving your new card! I'd be more than happy to assist you with the activation process. \\n\\nTo activate your card, you have a few options:\\n\\n1. Online Activation: Visit our website and look for the card activation section. You'll need to provide some key information, such as your card details and personal information, to verify your identity and activate the card.\\n\\n2. Phone Activation: You can also activate your card by calling our dedicated activation hotline. The customer service representative will guide you through the necessary steps and ensure your card is activated securely.\\n\\n3. Mobile App Activation: If we have a mobile app available, you can download it and use the app to activate your card. Look for the card activation feature within the app and follow the prompts to complete the activation process.\\n\\nWhichever method you choose, please make sure to have your new card and any other relevant information handy to expedite the activation process. If you encounter any difficulties or have further questions, don't hesitate to reach out. We're here to help you activate your card smoothly.\"\n",
            " 'I\\'m here to assist you with activating your visa card online. Activating your visa card is a quick and easy process. Here\\'s what you need to do:\\n\\n1. Visit our website at {{Company Website URL}} and log in to your account using your registered credentials.\\n2. Navigate to the \"Account\" or \"Profile\" section.\\n3. Look for the \"Card Activation\" or \"Activate Card\" option.\\n4. Click on it and follow the on-screen instructions to provide the necessary details for card activation.\\n5. Once you\\'ve completed the activation process, your visa card will be ready to use for online and offline purchases.\\n\\nIf you face any issues or require further assistance during the activation process, please don\\'t hesitate to reach out. We\\'re here to help make your activation experience as seamless as possible!'\n",
            " 'I\\'m here to assist you with activating your card. Activating a card is a simple process. Please follow the steps below:\\n\\n1. Visit our website at {{Company Website URL}}.\\n2. Log in to your account using your credentials. If you don\\'t have an account yet, you can create one by clicking on the \"Sign Up\" button.\\n3. Once you\\'re logged in, navigate to the \"Cards\" or \"Account\" section.\\n4. Look for the option to activate your card. It might be labeled as \"Activate Card\" or something similar.\\n5. Click on the activation link and follow the prompts to complete the activation process.\\n6. If you encounter any difficulties or have any questions along the way, feel free to reach out to our customer support team. They are available {{Customer Support Working Hours}} at {{Customer Support Phone Number}} or through the Live Chat on our website at {{Company Website URL}}.\\n\\nCongratulations on your new card! If you have any other questions or need further assistance, please let me know.'\n",
            " 'I\\'m here to assist you with activating your American Express card on your mobile device. Follow these steps to get it done:\\n\\n1. Download the official American Express mobile app from your device\\'s app store.\\n2. Open the app and sign in to your account using your credentials.\\n3. Once you\\'re logged in, navigate to the \"Account Services\" or \"Card Management\" section.\\n4. Look for an option like \"Activate a Card\" or \"Card Activation\" and tap on it.\\n5. Follow the on-screen instructions to provide the necessary details such as your card number, expiration date, and security code.\\n6. Once you\\'ve entered the required information, tap on \"Activate\" or \"Submit\" to complete the process.\\n\\nIf you encounter any difficulties or have any questions during the activation process, feel free to reach out to the American Express customer support team at {{American Express Customer Support Phone Number}}. They are available {{American Express Customer Support Working Hours}} and will be more than happy to assist you.\\n\\nEnjoy using your newly activated {{Credit Card}} on your mobile device!']\n",
            "Total Unique Values: 25545\n",
            "--------------------------------------------------\n"
          ]
        }
      ],
      "source": [
        "# Convert dataset to a Pandas DataFrame for easier analysis\n",
        "import pandas as pd\n",
        "df = pd.DataFrame(train_data)\n",
        "\n",
        "# Print unique values for each feature\n",
        "for column in df.columns:\n",
        "    unique_values = df[column].unique()\n",
        "    print(f\"Feature: {column}\")\n",
        "    print(f\"Unique Values: {unique_values[:]}\")  # Display first 10 unique values\n",
        "    print(f\"Total Unique Values: {len(unique_values)}\")\n",
        "    print(\"-\" * 50)"
      ]
    },
    {
      "cell_type": "markdown",
      "metadata": {},
      "source": [
        "Data Visualization"
      ]
    },
    {
      "cell_type": "code",
      "execution_count": 4,
      "metadata": {},
      "outputs": [
        {
          "name": "stdout",
          "output_type": "stream",
          "text": [
            "Requirement already satisfied: seaborn in c:\\users\\visha\\miniconda3\\lib\\site-packages (0.13.2)\n",
            "Requirement already satisfied: numpy!=1.24.0,>=1.20 in c:\\users\\visha\\miniconda3\\lib\\site-packages (from seaborn) (2.0.2)\n",
            "Requirement already satisfied: pandas>=1.2 in c:\\users\\visha\\miniconda3\\lib\\site-packages (from seaborn) (2.2.3)\n",
            "Requirement already satisfied: matplotlib!=3.6.1,>=3.4 in c:\\users\\visha\\miniconda3\\lib\\site-packages (from seaborn) (3.10.1)\n",
            "Requirement already satisfied: contourpy>=1.0.1 in c:\\users\\visha\\miniconda3\\lib\\site-packages (from matplotlib!=3.6.1,>=3.4->seaborn) (1.3.1)\n",
            "Requirement already satisfied: cycler>=0.10 in c:\\users\\visha\\miniconda3\\lib\\site-packages (from matplotlib!=3.6.1,>=3.4->seaborn) (0.12.1)\n",
            "Requirement already satisfied: fonttools>=4.22.0 in c:\\users\\visha\\miniconda3\\lib\\site-packages (from matplotlib!=3.6.1,>=3.4->seaborn) (4.56.0)\n",
            "Requirement already satisfied: kiwisolver>=1.3.1 in c:\\users\\visha\\miniconda3\\lib\\site-packages (from matplotlib!=3.6.1,>=3.4->seaborn) (1.4.8)\n",
            "Requirement already satisfied: packaging>=20.0 in c:\\users\\visha\\miniconda3\\lib\\site-packages (from matplotlib!=3.6.1,>=3.4->seaborn) (24.2)\n",
            "Requirement already satisfied: pillow>=8 in c:\\users\\visha\\miniconda3\\lib\\site-packages (from matplotlib!=3.6.1,>=3.4->seaborn) (11.1.0)\n",
            "Requirement already satisfied: pyparsing>=2.3.1 in c:\\users\\visha\\miniconda3\\lib\\site-packages (from matplotlib!=3.6.1,>=3.4->seaborn) (3.2.1)\n",
            "Requirement already satisfied: python-dateutil>=2.7 in c:\\users\\visha\\miniconda3\\lib\\site-packages (from matplotlib!=3.6.1,>=3.4->seaborn) (2.9.0.post0)\n",
            "Requirement already satisfied: pytz>=2020.1 in c:\\users\\visha\\miniconda3\\lib\\site-packages (from pandas>=1.2->seaborn) (2025.1)\n",
            "Requirement already satisfied: tzdata>=2022.7 in c:\\users\\visha\\miniconda3\\lib\\site-packages (from pandas>=1.2->seaborn) (2025.1)\n",
            "Requirement already satisfied: six>=1.5 in c:\\users\\visha\\miniconda3\\lib\\site-packages (from python-dateutil>=2.7->matplotlib!=3.6.1,>=3.4->seaborn) (1.17.0)\n"
          ]
        }
      ],
      "source": [
        "!pip install seaborn"
      ]
    },
    {
      "cell_type": "code",
      "execution_count": 5,
      "metadata": {},
      "outputs": [
        {
          "name": "stderr",
          "output_type": "stream",
          "text": [
            "C:\\Users\\visha\\AppData\\Local\\Temp\\ipykernel_2088\\936463622.py:9: FutureWarning: \n",
            "\n",
            "Passing `palette` without assigning `hue` is deprecated and will be removed in v0.14.0. Assign the `x` variable to `hue` and set `legend=False` for the same effect.\n",
            "\n",
            "  sns.barplot(x=category_counts.index, y=category_counts.values, palette=\"viridis\")\n"
          ]
        },
        {
          "data": {
            "text/plain": [
              "([0, 1, 2, 3, 4, 5, 6, 7, 8],\n",
              " [Text(0, 0, 'CARD'),\n",
              "  Text(1, 0, 'LOAN'),\n",
              "  Text(2, 0, 'ACCOUNT'),\n",
              "  Text(3, 0, 'FIND'),\n",
              "  Text(4, 0, 'CONTACT'),\n",
              "  Text(5, 0, 'TRANSFER'),\n",
              "  Text(6, 0, 'ATM'),\n",
              "  Text(7, 0, 'PASSWORD'),\n",
              "  Text(8, 0, 'FEES')])"
            ]
          },
          "execution_count": 5,
          "metadata": {},
          "output_type": "execute_result"
        },
        {
          "data": {
            "image/png": "[encoded data removed]",
            "text/plain": [
              "<Figure size 1200x600 with 1 Axes>"
            ]
          },
          "metadata": {},
          "output_type": "display_data"
        }
      ],
      "source": [
        "import matplotlib.pyplot as plt\n",
        "import seaborn as sns\n",
        "\n",
        "# Count occurrences of each category\n",
        "category_counts = df['category'].value_counts()\n",
        "\n",
        "# Create the bar plot\n",
        "plt.figure(figsize=(12, 6))\n",
        "sns.barplot(x=category_counts.index, y=category_counts.values, palette=\"viridis\")\n",
        "\n",
        "# Add titles and labels\n",
        "plt.title(\"Distribution of Categories\", fontsize=14)\n",
        "plt.xlabel(\"Category\", fontsize=12)\n",
        "plt.ylabel(\"Count\", fontsize=12)\n",
        "plt.xticks(rotation=45)  # Rotate labels for better readability\n",
        "\n",
        "# Show the plot\n"
      ]
    },
    {
      "cell_type": "code",
      "execution_count": 6,
      "metadata": {
        "colab": {
          "base_uri": "https://localhost:8080/"
        },
        "id": "2EcSFSrohE4n",
        "outputId": "8f770050-297d-44d6-9aa7-eac4f4f7534d"
      },
      "outputs": [
        {
          "name": "stdout",
          "output_type": "stream",
          "text": [
            "['BCIPZ' 'BCILZ' 'BCIPQZ' 'BCLPQZ' 'BCILPZ' 'BLZ' 'BLPQ' 'BCILPQ' 'BCILQZ'\n",
            " 'B' 'BCILP' 'BCILPQZ' 'BCL' 'BI' 'BCIL' 'BCPQ' 'BIZ' 'BCIZ' 'BIQ' 'BL'\n",
            " 'BCQ' 'BCIPQ' 'BCI' 'BCIQZ' 'BILZ' 'BQZ' 'BQ' 'BCZ' 'BCLP' 'BLQ' 'BIPQ'\n",
            " 'BIPZ' 'BCIP' 'BILPZ' 'BILQ' 'BCLPZ' 'BC' 'BCLQ' 'BCLQZ' 'BCPQZ' 'BCIQ'\n",
            " 'BCILQ' 'BILP' 'BPQ' 'BIP' 'BCLZ' 'BCEQZ' 'BIL' 'BZ' 'BILPQ' 'BCQZ'\n",
            " 'BLQZ' 'BILQZ' 'BCLPQ' 'BILPQZ' 'BIQZ' 'BIPQZ' 'BLPZ' 'BCEIQ' 'BLPQZ'\n",
            " 'BCEIP' 'BPZ' 'BCEIQZ' 'BCPZ' 'BCEI' 'BP' 'BCEIPQ' 'BCP' 'BLP' 'BCEIPZ'\n",
            " 'BCEILP' 'BCELP' 'BCELQZ' 'BCEILPZ' 'BCEL' 'BCEILQ' 'BCEQ' 'BCELZ'\n",
            " 'BCEILZ' 'BCEIZ' 'BCELQ' 'BCEILPQ' 'BCEILPQZ' 'BCEIL' 'BCEILQZ' 'BCE'\n",
            " 'BCELPZ' 'BCEZ' 'BCELPQ' 'BCELPQZ' 'BPQZ' 'BCEP' 'BCEPZ' 'BEL' 'BCEIPQZ'\n",
            " 'BEZ' 'BEQZ' 'BELZ' 'BE' 'BEQ' 'BEILQZ' 'BEIQ' 'BCEPQ' 'BCEPQZ' 'BCIPQW'\n",
            " 'BWZ' 'BIQWZ' 'BIPQW' 'BCIW' 'BCIQWZ' 'BIQW' 'BCIPW' 'BCIQW' 'BCIPWZ'\n",
            " 'BIPWZ' 'BCIPQWZ' 'BCPW' 'BIWZ' 'BQW' 'BIPQWZ' 'BCIWZ' 'BCPQWZ' 'BCWZ'\n",
            " 'BIPW' 'BQWZ' 'BW' 'BIW' 'BCQW' 'BCW' 'BCPQW' 'BCQWZ' 'BPWZ' 'BCPWZ'\n",
            " 'BCEIMPQ' 'BCMPZ' 'BCIMPQW' 'BCIMPWZ' 'BCIMWZ' 'BMWZ' 'BIMPZ' 'BCEMQWZ'\n",
            " 'BCIMW' 'BCEIPQWZ' 'BCEIMPQWZ' 'BIMWZ' 'BCMWZ' 'BCIMP' 'BCILPQW' 'BCIMPQ'\n",
            " 'BCMPQZ' 'BIMPQZ' 'BCILMPQWZ' 'BCMPQW' 'BCMPQWZ' 'BCILMW' 'BCIMQWZ'\n",
            " 'BCEMQZ' 'BCIMQ' 'BCELMQW' 'BCIMPQWZ' 'BCLMPW' 'BCIMPQZ' 'BCILMQZ' 'BMQW'\n",
            " 'BCIMQW' 'BCIMQZ' 'BCELQWZ' 'BILM' 'BCEILMQ' 'BCIM' 'BMPW' 'BCEIMW'\n",
            " 'BCILMPZ' 'BCILMPQW' 'BCEIMZ' 'BCILPQWZ' 'BCIMPW' 'BCILMQ' 'BILMQ'\n",
            " 'BCLMPQZ' 'BCEIW' 'BLMW' 'BMPQWZ' 'BCILMP' 'BCLM' 'BMZ' 'BMW' 'BMPZ'\n",
            " 'BCIMPZ' 'BCEIMPQZ' 'BCILMZ' 'BCEIMQ' 'BCEILMZ' 'BLPQWZ' 'BCM' 'BCMQW'\n",
            " 'BCEILMPWZ' 'BILPQWZ' 'BCEIQW' 'BCEQWZ' 'BCILWZ' 'BCEILMPQWZ' 'BCIMZ'\n",
            " 'BCILMPQZ' 'BCMQWZ' 'BCILM' 'BCMQ' 'BCILMWZ' 'BCEMW' 'BLM' 'BCILMQW'\n",
            " 'BCILMPWZ' 'BILMP' 'BCELMZ' 'BM' 'BCELPW' 'BMQ' 'BEMW' 'BCLPQWZ'\n",
            " 'BCELMQZ' 'BCEIMWZ' 'BCEILMPW' 'BIMZ' 'BCMQZ' 'BCILMPQ' 'BMQWZ'\n",
            " 'BCELMQWZ' 'BCILPWZ' 'BCLMZ' 'BCLMQW' 'BCLMPQW' 'BCELMPQZ' 'BILMZ'\n",
            " 'BILMPZ' 'BCLMW' 'BCEILM' 'BIM' 'BCLMQWZ' 'BCEILMPQZ' 'BLMZ' 'BMQZ'\n",
            " 'BCMW' 'BCLPQW' 'BCLMPQ' 'BCLMWZ' 'BCILQW' 'BCILMQWZ' 'BILMQZ' 'BCEIMP'\n",
            " 'BCEM' 'BLMQWZ' 'BCILPW' 'BCELM' 'BCELMQ' 'BCMP' 'BCEIMPW' 'BIMQZ' 'BCLW'\n",
            " 'BIMPQWZ' 'BCEILPWZ' 'BCEIM' 'BLW' 'BCILMPW' 'BCEIMPWZ' 'BCLQWZ' 'BIMPW'\n",
            " 'BCLMPWZ' 'BIMQW' 'BCMPW' 'BCLMQZ' 'BIMP' 'BLMQZ' 'BCLWZ' 'BCEILMPQW'\n",
            " 'BILQW' 'BILMQW' 'BIMQ' 'BCMZ' 'BILMPQW' 'BCEW' 'BCILQWZ' 'BEMWZ' 'BILWZ'\n",
            " 'BILMPW' 'BIMPQ' 'BCEILWZ' 'BCEIMPZ' 'BCILW' 'BLMQW' 'BCLMPZ' 'BIMQWZ'\n",
            " 'BPQW' 'BCEILMQW' 'BCEILW' 'BCEIPW' 'BILMPQWZ' 'BCEILMPQ' 'BILQWZ'\n",
            " 'BIMPWZ' 'BCEIMQZ' 'BCEMQW' 'BCLMP' 'BILMW' 'BCEIPWZ' 'BCEIMPQW'\n",
            " 'BCEILPQWZ' 'BCEILMWZ' 'BCEILPW' 'BCEIQWZ' 'BCEILQWZ' 'BCEILPQW' 'BCEIWZ'\n",
            " 'BCEMQ' 'BCEILMPZ' 'BLQWZ' 'BLMPQW' 'BCMPQ' 'BPW' 'BILMQWZ' 'BCELMWZ'\n",
            " 'BCELMPW' 'BILMPQ' 'BCEILMQWZ' 'BCLMQ' 'BCELW' 'BCEIMQWZ' 'BCLQW'\n",
            " 'BILPQW' 'BLQW' 'BILW' 'BLWZ' 'BPQWZ' 'BCLPW' 'BCLPWZ' 'BILPW' 'BLPQW'\n",
            " 'BILPWZ' 'BELQW' 'BLPWZ' 'BCEMZ' 'BCEILMQZ' 'BEMQZ' 'BCEILMP' 'BCEMPQZ'\n",
            " 'BCELMPZ' 'BEM' 'BILMPQZ' 'BMPQZ' 'BLMP' 'BLMPQZ' 'BLMQ' 'BMP' 'BLMPZ'\n",
            " 'BLMPQ' 'BLPW' 'BCEILQW' 'BCEIPQW' 'BELWZ' 'BCELWZ' 'BCELQW' 'BCELPWZ'\n",
            " 'BCELPQW' 'BELQWZ' 'BCELPQWZ' 'BELW' 'BEIQZ' 'BELQ' 'BELQZ' 'BCEQW'\n",
            " 'BCEWZ']\n"
          ]
        }
      ],
      "source": [
        "# Find unique tags in the dataset\n",
        "print(df[\"tags\"].unique())\n",
        "    "
      ]
    },
    {
      "cell_type": "markdown",
      "metadata": {},
      "source": [
        " Check for Missing Values\n",
        "\n"
      ]
    },
    {
      "cell_type": "code",
      "execution_count": 7,
      "metadata": {
        "id": "ktR46AcuhE7V"
      },
      "outputs": [
        {
          "name": "stdout",
          "output_type": "stream",
          "text": [
            "tags           0\n",
            "instruction    0\n",
            "category       0\n",
            "intent         0\n",
            "response       0\n",
            "dtype: int64\n"
          ]
        }
      ],
      "source": [
        "# Count missing values in each column\n",
        "print(df.isnull().sum())"
      ]
    },
    {
      "cell_type": "markdown",
      "metadata": {},
      "source": [
        "Check for Duplicates"
      ]
    },
    {
      "cell_type": "code",
      "execution_count": 8,
      "metadata": {},
      "outputs": [
        {
          "name": "stdout",
          "output_type": "stream",
          "text": [
            "Duplicate Rows: 0\n"
          ]
        }
      ],
      "source": [
        "# Count duplicate rows\n",
        "print(\"Duplicate Rows:\", df.duplicated().sum())"
      ]
    },
    {
      "cell_type": "markdown",
      "metadata": {},
      "source": [
        " Summary Statistics"
      ]
    },
    {
      "cell_type": "code",
      "execution_count": 9,
      "metadata": {},
      "outputs": [
        {
          "name": "stdout",
          "output_type": "stream",
          "text": [
            "         tags                                     instruction category  \\\n",
            "count   25545                                           25545    25545   \n",
            "unique    370                                           25545        9   \n",
            "top     BCIPZ  I got to set up a apssword, could you help me?     CARD   \n",
            "freq      818                                               1     5980   \n",
            "\n",
            "               intent                                           response  \n",
            "count           25545                                              25545  \n",
            "unique             26                                              25545  \n",
            "top     activate_card  I'd be happy to assist you in setting up a pas...  \n",
            "freq             1000                                                  1  \n"
          ]
        }
      ],
      "source": [
        "\n",
        "print(df.describe())"
      ]
    },
    {
      "cell_type": "code",
      "execution_count": null,
      "metadata": {},
      "outputs": [],
      "source": []
    }
  ],
  "metadata": {
    "accelerator": "GPU",
    "colab": {
      "gpuType": "T4",
      "provenance": []
    },
    "kernelspec": {
      "display_name": "mchatbot",
      "language": "python",
      "name": "python3"
    },
    "language_info": {
      "codemirror_mode": {
        "name": "ipython",
        "version": 3
      },
      "file_extension": ".py",
      "mimetype": "text/x-python",
      "name": "python",
      "nbconvert_exporter": "python",
      "pygments_lexer": "ipython3",
      "version": "3.13.2"
    }
  },
  "nbformat": 4,
  "nbformat_minor": 0
}
