{
 "cells": [
  {
   "cell_type": "code",
   "execution_count": null,
   "metadata": {},
   "outputs": [],
   "source": [
    "# !pip install -q PyPDF2 rouge evaluate rouge_score langchain_community jq "
   ]
  },
  {
   "cell_type": "code",
   "execution_count": 6,
   "metadata": {},
   "outputs": [
    {
     "name": "stdout",
     "output_type": "stream",
     "text": [
      "API Key loaded successfully!\n"
     ]
    }
   ],
   "source": [
    "# !pip install python-dotenv\n",
    "from dotenv import load_dotenv\n",
    "import os\n",
    "\n",
    "# Load environment variables from .env file\n",
    "load_dotenv()\n",
    "\n",
    "# Access the API key\n",
    "api_key = os.getenv(\"google_api_key\")\n",
    "\n",
    "if api_key:\n",
    "    print(\"API Key loaded successfully!\")\n",
    "else:\n",
    "    print(\"Error: API Key not found.\")"
   ]
  },
  {
   "cell_type": "code",
   "execution_count": 7,
   "metadata": {},
   "outputs": [
    {
     "name": "stderr",
     "output_type": "stream",
     "text": [
      "USER_AGENT environment variable not set, consider setting it to identify your requests.\n"
     ]
    }
   ],
   "source": [
    "import bs4\n",
    "from langchain import hub\n",
    "from langchain_chroma import Chroma\n",
    "from langchain_community.document_loaders import WebBaseLoader\n",
    "from langchain_core.output_parsers import StrOutputParser\n",
    "from langchain_core.runnables import RunnablePassthrough\n",
    "from langchain.embeddings import HuggingFaceEmbeddings\n",
    "from langchain_text_splitters import RecursiveCharacterTextSplitter"
   ]
  },
  {
   "cell_type": "markdown",
   "metadata": {},
   "source": [
    "Data_Loading"
   ]
  },
  {
   "cell_type": "code",
   "execution_count": 8,
   "metadata": {},
   "outputs": [],
   "source": [
    "\n",
    "from langchain_community.document_loaders import JSONLoader\n",
    "\n",
    "# Define the correct jq_schema to extract required fields\n",
    "jq_schema = '[.[] | {tags: .tags, instruction: .instruction, category: .category, intent: .intent, response: .response}]'\n",
    "\n",
    "# Load the JSON file\n",
    "loader = JSONLoader(\n",
    "    file_path=\"bitext/Bitext-retail-banking-llm-chatbot-training-dataset.json\",\n",
    "    jq_schema=jq_schema,\n",
    "    text_content=False\n",
    ")\n",
    "\n",
    "# Load the documents\n",
    "docs = loader.load()\n",
    "\n"
   ]
  },
  {
   "cell_type": "markdown",
   "metadata": {},
   "source": [
    "Chunking"
   ]
  },
  {
   "cell_type": "code",
   "execution_count": 9,
   "metadata": {},
   "outputs": [],
   "source": [
    "text_splitter = RecursiveCharacterTextSplitter(chunk_size=1000, chunk_overlap=200)\n",
    "splits = text_splitter.split_documents(docs)\n"
   ]
  },
  {
   "cell_type": "code",
   "execution_count": 10,
   "metadata": {},
   "outputs": [
    {
     "data": {
      "text/plain": [
       "[Document(metadata={'source': 'C:\\\\Users\\\\visha\\\\OneDrive\\\\Desktop\\\\Bank_System_Chatbot\\\\bitext\\\\Bitext-retail-banking-llm-chatbot-training-dataset.json', 'seq_num': 1}, page_content='[{\"tags\": \"BCIPZ\", \"instruction\": \"I would like to acivate a card, can you help me?\", \"category\": \"CARD\", \"intent\": \"activate_card\", \"response\": \"I\\'m here to assist you with that! Activating your card is an important step to starting and enjoying its benefits. Here\\'s how you can activate your card:\\\\n\\\\n1. Locate the activation instructions: Depending on the card issuer, you may find the activation instructions on a sticker attached to the card itself, in the welcome package, or on the issuer\\'s website.\\\\n\\\\n2. Visit the card issuer\\'s activation website: Using your computer or mobile device, open a web browser and navigate to the card issuer\\'s website. Look for the activation page or section.\\\\n\\\\n3. Enter the required information: Follow the prompts on the activation page and provide the necessary information. This may include your card number, personal details, and security code.\\\\n\\\\n4. Set up your card: Once you\\'ve entered the required information, you may have the option to set up a PIN,'),\n",
       " Document(metadata={'source': 'C:\\\\Users\\\\visha\\\\OneDrive\\\\Desktop\\\\Bank_System_Chatbot\\\\bitext\\\\Bitext-retail-banking-llm-chatbot-training-dataset.json', 'seq_num': 1}, page_content='information. This may include your card number, personal details, and security code.\\\\n\\\\n4. Set up your card: Once you\\'ve entered the required information, you may have the option to set up a PIN, create an online account, or choose additional security features. Follow the instructions provided.\\\\n\\\\n5. Confirm activation: After entering all the necessary details and setting up any additional features, review the information you\\'ve provided and click on the \\\\\"Activate\\\\\" or \\\\\"Confirm\\\\\" button. \\\\n\\\\n6. Await confirmation: In most cases, you\\'ll receive a confirmation message either on the website or through email or SMS indicating that your card has been successfully activated.\\\\n\\\\nIf you encounter any issues during the activation process or have any questions, please don\\'t hesitate to reach out. I\\'m here to assist you every step of the way!\"}, {\"tags\": \"BCILZ\", \"instruction\": \"I have to activate an Visa online, how can I do it?\", \"category\": \"CARD\", \"intent\": \"activate_card\", \"response\":'),\n",
       " Document(metadata={'source': 'C:\\\\Users\\\\visha\\\\OneDrive\\\\Desktop\\\\Bank_System_Chatbot\\\\bitext\\\\Bitext-retail-banking-llm-chatbot-training-dataset.json', 'seq_num': 1}, page_content='I\\'m here to assist you every step of the way!\"}, {\"tags\": \"BCILZ\", \"instruction\": \"I have to activate an Visa online, how can I do it?\", \"category\": \"CARD\", \"intent\": \"activate_card\", \"response\": \"I\\'m here to assist you with activating your {{Credit Card}} online. To activate your {{Credit Card}}, please follow these steps:\\\\n\\\\n1. Visit the official website of your card issuer.\\\\n2. Look for the \\\\\"Activate Card\\\\\" or \\\\\"Card Activation\\\\\" option.\\\\n3. Click on the option and enter your card details as requested. This may include your card number, expiration date, CVV, and personal information.\\\\n4. Follow the prompts to complete the activation process.\\\\n5. Once successfully activated, your {{Credit Card}} will be ready to use.\\\\n\\\\nIf you encounter any issues during the activation process or have any further questions, please don\\'t hesitate to reach out. Happy to help!\"}, {\"tags\": \"BCIPQZ\", \"instruction\": \"I\\'d like to actiate a card where do i do it\", \"category\": \"CARD\", \"intent\":'),\n",
       " Document(metadata={'source': 'C:\\\\Users\\\\visha\\\\OneDrive\\\\Desktop\\\\Bank_System_Chatbot\\\\bitext\\\\Bitext-retail-banking-llm-chatbot-training-dataset.json', 'seq_num': 1}, page_content='or have any further questions, please don\\'t hesitate to reach out. Happy to help!\"}, {\"tags\": \"BCIPQZ\", \"instruction\": \"I\\'d like to actiate a card where do i do it\", \"category\": \"CARD\", \"intent\": \"activate_card\", \"response\": \"I can help you with that! Activating your card is easy. Here\\'s what you need to do:\\\\n\\\\n1. If you received your card by mail, it may already be activated. Check the instructions that came with your card or any activation sticker.\\\\n2. If you need to activate your card online, visit our website at {{Company Website URL}}.\\\\n3. Look for the \\\\\"Card Activation\\\\\" or \\\\\"Activate Card\\\\\" section on our website.\\\\n4. Enter the required information, such as your card number, name, and other details as prompted.\\\\n5. Follow the on-screen instructions to complete the activation process.\\\\n6. If you encounter any issues or need further assistance, feel free to contact our Customer Support team at {{Customer Support Phone Number}}. They\\'re available {{Customer Support Working Hours}}'),\n",
       " Document(metadata={'source': 'C:\\\\Users\\\\visha\\\\OneDrive\\\\Desktop\\\\Bank_System_Chatbot\\\\bitext\\\\Bitext-retail-banking-llm-chatbot-training-dataset.json', 'seq_num': 1}, page_content='If you encounter any issues or need further assistance, feel free to contact our Customer Support team at {{Customer Support Phone Number}}. They\\'re available {{Customer Support Working Hours}} and will be happy to assist you.\\\\n\\\\nOnce your card is activated, you\\'ll be ready to start using it. If you have any other questions or need additional help, please let me know!\"}, {\"tags\": \"BCLPQZ\", \"instruction\": \"I\\'d likke to activate a visa on mobile i need assistance\", \"category\": \"CARD\", \"intent\": \"activate_card\", \"response\": \"I\\'m here to assist you with activating your {{Credit Card}} on your mobile device. Activating your card is a simple process. Here\\'s what you need to do:\\\\n\\\\n1. Download the {{Banking App}} from your app store and log in to your account.\\\\n2. Navigate to the \\\\\"{{Card Services}}\\\\\" or \\\\\"{{Manage Cards}}\\\\\" section.\\\\n3. Look for the option to activate your card and select it.\\\\n4. Follow the on-screen prompts to enter the required information, such as your card number,')]"
      ]
     },
     "execution_count": 10,
     "metadata": {},
     "output_type": "execute_result"
    }
   ],
   "source": [
    "splits[:5]"
   ]
  },
  {
   "cell_type": "markdown",
   "metadata": {},
   "source": [
    "Embedding and Vectore_Store"
   ]
  },
  {
   "cell_type": "code",
   "execution_count": 11,
   "metadata": {},
   "outputs": [
    {
     "name": "stderr",
     "output_type": "stream",
     "text": [
      "C:\\Users\\visha\\AppData\\Local\\Temp\\ipykernel_21616\\2931726067.py:3: LangChainDeprecationWarning: The class `HuggingFaceEmbeddings` was deprecated in LangChain 0.2.2 and will be removed in 1.0. An updated version of the class exists in the :class:`~langchain-huggingface package and should be used instead. To use it run `pip install -U :class:`~langchain-huggingface` and import as `from :class:`~langchain_huggingface import HuggingFaceEmbeddings``.\n",
      "  embeddings = HuggingFaceEmbeddings(model_name=model_name)\n",
      "c:\\Users\\visha\\miniconda3\\envs\\mchatbot\\Lib\\site-packages\\tqdm\\auto.py:21: TqdmWarning: IProgress not found. Please update jupyter and ipywidgets. See https://ipywidgets.readthedocs.io/en/stable/user_install.html\n",
      "  from .autonotebook import tqdm as notebook_tqdm\n"
     ]
    }
   ],
   "source": [
    "from langchain.embeddings import HuggingFaceEmbeddings\n",
    "model_name = \"sentence-transformers/all-MiniLM-L6-v2\"\n",
    "embeddings = HuggingFaceEmbeddings(model_name=model_name)\n",
    "from langchain_chroma import Chroma\n",
    "vectorstore = Chroma.from_documents(documents=splits, embedding=embeddings)\n"
   ]
  },
  {
   "cell_type": "code",
   "execution_count": 6,
   "metadata": {},
   "outputs": [
    {
     "data": {
      "text/plain": [
       "HuggingFaceEmbeddings(client=SentenceTransformer(\n",
       "  (0): Transformer({'max_seq_length': 256, 'do_lower_case': False}) with Transformer model: BertModel \n",
       "  (1): Pooling({'word_embedding_dimension': 384, 'pooling_mode_cls_token': False, 'pooling_mode_mean_tokens': True, 'pooling_mode_max_tokens': False, 'pooling_mode_mean_sqrt_len_tokens': False, 'pooling_mode_weightedmean_tokens': False, 'pooling_mode_lasttoken': False, 'include_prompt': True})\n",
       "  (2): Normalize()\n",
       "), model_name='sentence-transformers/all-MiniLM-L6-v2', cache_folder=None, model_kwargs={}, encode_kwargs={}, multi_process=False, show_progress=False)"
      ]
     },
     "execution_count": 6,
     "metadata": {},
     "output_type": "execute_result"
    }
   ],
   "source": [
    "embeddings"
   ]
  },
  {
   "cell_type": "code",
   "execution_count": 12,
   "metadata": {},
   "outputs": [
    {
     "data": {
      "text/plain": [
       "<langchain_chroma.vectorstores.Chroma at 0x1853f3c3cb0>"
      ]
     },
     "execution_count": 12,
     "metadata": {},
     "output_type": "execute_result"
    }
   ],
   "source": [
    "vectorstore"
   ]
  },
  {
   "cell_type": "code",
   "execution_count": 13,
   "metadata": {},
   "outputs": [],
   "source": [
    "# Retrieve and generate using the relevant snippets of the blog.\n",
    "from langchain import PromptTemplate\n",
    "\n",
    "\n",
    "prompt_template = PromptTemplate.from_template(\n",
    "template = \"\"\"\n",
    "You are a Banking & Finance Expert specializing in customer support. Your role is to assist customers by providing accurate, professional, and regulatory-compliant responses.\n",
    "\n",
    "### Guidelines for Responding:  \n",
    "- **Accuracy**: Ensure all responses are factually correct and relevant to banking and financial services.  \n",
    "- **Clarity**: Provide concise yet informative answers in simple, customer-friendly language.  \n",
    "- **Security**: Never request or assume personal, account-sensitive, or confidential information.  \n",
    "- **Regulatory Compliance**: Adhere to banking rules and regulations when responding.  \n",
    "- **Fallback**: If you don't know the answer, respond with: \"Sorry, I don't know the answer to that. Please contact customer support for further assistance.\"  \n",
    "\n",
    "### Response Format:   \n",
    "**Context (if available):** {context}  \n",
    "\n",
    "Response:\n",
    "\"\"\")\n",
    "\n",
    "\n"
   ]
  },
  {
   "cell_type": "code",
   "execution_count": 14,
   "metadata": {},
   "outputs": [],
   "source": [
    "retriever = vectorstore.as_retriever()"
   ]
  },
  {
   "cell_type": "code",
   "execution_count": 15,
   "metadata": {},
   "outputs": [],
   "source": [
    "mistral_api_key='qN5jSjEnlxgc4jyJAz0oQaOlmGz2J9HH'\n",
    "groq_api_key='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'"
   ]
  },
  {
   "cell_type": "code",
   "execution_count": 17,
   "metadata": {},
   "outputs": [
    {
     "name": "stdout",
     "output_type": "stream",
     "text": [
      "Using Mistral\n"
     ]
    }
   ],
   "source": [
    "from langchain_google_genai import GoogleGenerativeAI\n",
    "from langchain_groq import ChatGroq\n",
    "from langchain_mistralai.chat_models import ChatMistralAI\n",
    "# \n",
    "\n",
    "# # Example: Set the LLM provider based on user choice or config\n",
    "llm_provider = \"mistral\"  # Change to \"google\" for Gemini or \"mistral\" for Mistral\n",
    "\n",
    "if llm_provider == \"google\":\n",
    "    llm = GoogleGenerativeAI(model=\"gemini-2.0-flash\", google_api_key=api_key)\n",
    "    print(\"Using Google Gemini\")\n",
    "elif llm_provider == \"groq\":\n",
    "    llm = ChatGroq(groq_api_key=groq_api_key, model=\"gemma\")\n",
    "    print(\"Using Groq Gemma\")\n",
    "elif llm_provider == \"mistral\":\n",
    "    llm = ChatMistralAI(api_key=mistral_api_key,model_name='ministral-3b-latest')\n",
    "    print(\"Using Mistral\")\n",
    "else:\n",
    "    raise ValueError(\"Invalid LLM provider selected.\")\n"
   ]
  },
  {
   "cell_type": "code",
   "execution_count": 18,
   "metadata": {},
   "outputs": [],
   "source": [
    "# Update the rag_chain to use the correct prompt template\n",
    "def format_docs(docs):\n",
    "    return \"\\n\\n\".join(doc.page_content for doc in docs)\n",
    "rag_chain = (\n",
    "    {\"context\": retriever | format_docs, \"question\": RunnablePassthrough()}\n",
    "    | prompt_template\n",
    "    | llm\n",
    "    | StrOutputParser()\n",
    ")"
   ]
  },
  {
   "cell_type": "code",
   "execution_count": 19,
   "metadata": {},
   "outputs": [],
   "source": [
    "query=\"I want to withdram my money from bank online?\""
   ]
  },
  {
   "cell_type": "code",
   "execution_count": 20,
   "metadata": {},
   "outputs": [
    {
     "data": {
      "text/plain": [
       "'**Context:** A customer wants to know how to make a bank transfer online.\\n\\n**Category:** TRANSFER\\n\\n**Intent:** make_transfer\\n\\n**Response:**\\n\\n\"I\\'m here to guide you through the process of making a bank transfer online. Here\\'s what you need to do:\\n\\n1. Log in to your online banking account. If you don\\'t have one, you can easily sign up for online banking on your bank\\'s website.\\n2. Once logged in, navigate to the \\\\\"Transfer\\\\\" or \\\\\"Payments\\\\\" section. The exact location may vary depending on your bank\\'s website.\\n3. Look for the option to add a new payee or beneficiary. You\\'ll need to provide the recipient\\'s information, such as their name, account number, and bank details.\\n4. After adding the payee, select the option to make a transfer. Enter the amount you wish to send and choose the account you want to transfer from.\\n5. Review the details of your transfer to ensure accuracy, including the recipient\\'s information and the amount.\\n6. If everything looks good, proceed to authorize the transfer using your preferred authentication method, such as a password, PIN, or fingerprint.\\n\\nIf you encounter any difficulties or have specific questions about your bank\\'s online transfer process, please provide the name of your bank, and I\\'ll be able to give you more detailed assistance.\\n\\nIf you need further assistance, don\\'t hesitate to reach out to your bank\\'s customer support team.\"'"
      ]
     },
     "execution_count": 20,
     "metadata": {},
     "output_type": "execute_result"
    }
   ],
   "source": [
    "response=rag_chain.invoke(query)\n",
    "response"
   ]
  },
  {
   "cell_type": "code",
   "execution_count": null,
   "metadata": {},
   "outputs": [],
   "source": []
  },
  {
   "cell_type": "code",
   "execution_count": 21,
   "metadata": {},
   "outputs": [
    {
     "name": "stdout",
     "output_type": "stream",
     "text": [
      "Original Model: \n",
      "{'rouge1': Score(precision=0.7797619047619048, recall=0.5458333333333333, fmeasure=0.642156862745098), 'rougeL': Score(precision=0.6309523809523809, recall=0.44166666666666665, fmeasure=0.5196078431372548)}\n",
      "\n"
     ]
    },
    {
     "name": "stderr",
     "output_type": "stream",
     "text": [
      "C:\\Users\\visha\\AppData\\Local\\Temp\\ipykernel_21616\\3051540234.py:4: LangChainDeprecationWarning: The method `BaseRetriever.get_relevant_documents` was deprecated in langchain-core 0.1.46 and will be removed in 1.0. Use :meth:`~invoke` instead.\n",
      "  retrieved_docs = retriever.get_relevant_documents(query)  # Retrieve documents\n"
     ]
    }
   ],
   "source": [
    "from rouge_score import rouge_scorer\n",
    "\n",
    "# Get relevant documents for the query\n",
    "retrieved_docs = retriever.get_relevant_documents(query)  # Retrieve documents\n",
    "references = [doc.page_content for doc in retrieved_docs]  # Extract content\n",
    "\n",
    "# Compute ROUGE scores\n",
    "scorer = rouge_scorer.RougeScorer(['rouge1', 'rougeL'], use_stemmer=True)\n",
    "scores = scorer.score(response, references[0]) # Assuming you want to compare with the first retrieved document\n",
    "\n",
    "print(f\"Original Model: \\n{scores}\\n\")"
   ]
  },
  {
   "cell_type": "code",
   "execution_count": null,
   "metadata": {},
   "outputs": [],
   "source": []
  },
  {
   "cell_type": "code",
   "execution_count": null,
   "metadata": {},
   "outputs": [],
   "source": []
  },
  {
   "cell_type": "code",
   "execution_count": null,
   "metadata": {},
   "outputs": [],
   "source": []
  }
 ],
 "metadata": {
  "kernelspec": {
   "display_name": "mchatbot",
   "language": "python",
   "name": "python3"
  },
  "language_info": {
   "codemirror_mode": {
    "name": "ipython",
    "version": 3
   },
   "file_extension": ".py",
   "mimetype": "text/x-python",
   "name": "python",
   "nbconvert_exporter": "python",
   "pygments_lexer": "ipython3",
   "version": "3.13.2"
  }
 },
 "nbformat": 4,
 "nbformat_minor": 2
}
