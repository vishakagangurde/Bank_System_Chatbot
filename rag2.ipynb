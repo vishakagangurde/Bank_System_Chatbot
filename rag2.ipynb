{
 "cells": [
  {
   "cell_type": "code",
   "execution_count": 1,
   "id": "620a7a36",
   "metadata": {},
   "outputs": [
    {
     "name": "stderr",
     "output_type": "stream",
     "text": [
      "c:\\Users\\visha\\miniconda3\\envs\\mchatbot\\Lib\\site-packages\\tqdm\\auto.py:21: TqdmWarning: IProgress not found. Please update jupyter and ipywidgets. See https://ipywidgets.readthedocs.io/en/stable/user_install.html\n",
      "  from .autonotebook import tqdm as notebook_tqdm\n"
     ]
    }
   ],
   "source": [
    "\n",
    "# Imports\n",
    "import os\n",
    "import json\n",
    "import time\n",
    "import pickle\n",
    "import numpy as np\n",
    "import pandas as pd\n",
    "from dotenv import load_dotenv\n",
    "from tqdm import tqdm\n",
    "from tenacity import retry, stop_after_attempt, wait_exponential, wait_random_exponential, retry_if_exception_type\n",
    "from sklearn.metrics.pairwise import cosine_similarity\n",
    "\n",
    "import google.generativeai as genai\n",
    "from google.generativeai import GenerativeModel\n",
    "from google.api_core import exceptions as google_exceptions\n",
    "from google.api_core.exceptions import ResourceExhausted\n",
    "\n",
    "\n",
    "import chromadb\n",
    "from chromadb.config import Settings\n",
    "from sentence_transformers import SentenceTransformer"
   ]
  },
  {
   "cell_type": "code",
   "execution_count": 2,
   "id": "2f42e65f",
   "metadata": {},
   "outputs": [
    {
     "name": "stdout",
     "output_type": "stream",
     "text": [
      "API Key loaded successfully!\n"
     ]
    }
   ],
   "source": [
    "# Load environment\n",
    "load_dotenv()\n",
    "api_key = os.getenv(\"google_api_key\") or \"GOOGLE_API_KEY\"\n",
    "\n",
    "if api_key:\n",
    "    print(\"API Key loaded successfully!\")\n",
    "else:\n",
    "    print(\"Error: API Key not found.\")"
   ]
  },
  {
   "cell_type": "code",
   "execution_count": 3,
   "id": "26ceef58",
   "metadata": {},
   "outputs": [],
   "source": [
    "# Configure Gemini\n",
    "genai.configure(api_key=api_key)\n",
    "model = GenerativeModel('gemini-1.5-flash')\n",
    "\n",
    "# Use SentenceTransformer for embedding\n",
    "embedding_model = SentenceTransformer('all-MiniLM-L6-v2')"
   ]
  },
  {
   "cell_type": "code",
   "execution_count": 4,
   "id": "13d14b54",
   "metadata": {},
   "outputs": [
    {
     "name": "stdout",
     "output_type": "stream",
     "text": [
      "\n",
      "Final Dataset Info:\n",
      "<class 'pandas.core.frame.DataFrame'>\n",
      "Index: 200 entries, 9329 to 12181\n",
      "Data columns (total 5 columns):\n",
      " #   Column    Non-Null Count  Dtype \n",
      "---  ------    --------------  ----- \n",
      " 0   flags     200 non-null    object\n",
      " 1   prompt    200 non-null    object\n",
      " 2   category  200 non-null    object\n",
      " 3   intent    200 non-null    object\n",
      " 4   response  200 non-null    object\n",
      "dtypes: object(5)\n",
      "memory usage: 9.4+ KB\n"
     ]
    }
   ],
   "source": [
    "# Load dataset\n",
    "df = pd.read_csv(\"bitext/Bitext_Sample_Customer_Support_Training_Dataset_27K_responses-v11.csv\")\n",
    "if {'instruction', 'response'}.issubset(df.columns):\n",
    "    df = df.rename(columns={\"instruction\": \"prompt\"})\n",
    "df = df.dropna(subset=[\"prompt\", \"response\"])\n",
    "if \"intent\" in df.columns:\n",
    "    df[\"intent\"] = df[\"intent\"].fillna(\"unknown\")\n",
    "df = df.sample(n=200, random_state=42)\n",
    "print(\"\\nFinal Dataset Info:\")\n",
    "df.info()"
   ]
  },
  {
   "cell_type": "code",
   "execution_count": 5,
   "id": "9de6ef42",
   "metadata": {},
   "outputs": [
    {
     "ename": "ValueError",
     "evalue": "\u001b[91mYou are using a deprecated configuration of Chroma.\n\n\u001b[94mIf you do not have data you wish to migrate, you only need to change how you construct\nyour Chroma client. Please see the \"New Clients\" section of https://docs.trychroma.com/deployment/migration.\n________________________________________________________________________________________________\n\nIf you do have data you wish to migrate, we have a migration tool you can use in order to\nmigrate your data to the new Chroma architecture.\nPlease `pip install chroma-migrate` and run `chroma-migrate` to migrate your data and then\nchange how you construct your Chroma client.\n\nSee https://docs.trychroma.com/deployment/migration for more information or join our discord at https://discord.gg/MMeYNTmh3x for help!\u001b[0m",
     "output_type": "error",
     "traceback": [
      "\u001b[1;31m---------------------------------------------------------------------------\u001b[0m",
      "\u001b[1;31mValueError\u001b[0m                                Traceback (most recent call last)",
      "Cell \u001b[1;32mIn[5], line 10\u001b[0m\n\u001b[0;32m      8\u001b[0m \u001b[38;5;66;03m# Ensure the Chroma client is initialized with persistence\u001b[39;00m\n\u001b[0;32m      9\u001b[0m settings \u001b[38;5;241m=\u001b[39m Settings(chroma_db_impl\u001b[38;5;241m=\u001b[39m\u001b[38;5;124m\"\u001b[39m\u001b[38;5;124mduckdb+parquet\u001b[39m\u001b[38;5;124m\"\u001b[39m, persist_directory\u001b[38;5;241m=\u001b[39mCHROMA_DB_DIR)\n\u001b[1;32m---> 10\u001b[0m chroma_client \u001b[38;5;241m=\u001b[39m \u001b[43mchromadb\u001b[49m\u001b[38;5;241;43m.\u001b[39;49m\u001b[43mClient\u001b[49m\u001b[43m(\u001b[49m\u001b[43msettings\u001b[49m\u001b[43m)\u001b[49m\n\u001b[0;32m     12\u001b[0m \u001b[38;5;66;03m# Create or load the collection\u001b[39;00m\n\u001b[0;32m     13\u001b[0m \u001b[38;5;28;01mif\u001b[39;00m collection_name \u001b[38;5;129;01min\u001b[39;00m [col\u001b[38;5;241m.\u001b[39mname \u001b[38;5;28;01mfor\u001b[39;00m col \u001b[38;5;129;01min\u001b[39;00m chroma_client\u001b[38;5;241m.\u001b[39mlist_collections()]:\n",
      "File \u001b[1;32mc:\\Users\\visha\\miniconda3\\envs\\mchatbot\\Lib\\site-packages\\chromadb\\__init__.py:333\u001b[0m, in \u001b[0;36mClient\u001b[1;34m(settings, tenant, database)\u001b[0m\n\u001b[0;32m    330\u001b[0m tenant \u001b[38;5;241m=\u001b[39m \u001b[38;5;28mstr\u001b[39m(tenant)\n\u001b[0;32m    331\u001b[0m database \u001b[38;5;241m=\u001b[39m \u001b[38;5;28mstr\u001b[39m(database)\n\u001b[1;32m--> 333\u001b[0m \u001b[38;5;28;01mreturn\u001b[39;00m \u001b[43mClientCreator\u001b[49m\u001b[43m(\u001b[49m\u001b[43mtenant\u001b[49m\u001b[38;5;241;43m=\u001b[39;49m\u001b[43mtenant\u001b[49m\u001b[43m,\u001b[49m\u001b[43m \u001b[49m\u001b[43mdatabase\u001b[49m\u001b[38;5;241;43m=\u001b[39;49m\u001b[43mdatabase\u001b[49m\u001b[43m,\u001b[49m\u001b[43m \u001b[49m\u001b[43msettings\u001b[49m\u001b[38;5;241;43m=\u001b[39;49m\u001b[43msettings\u001b[49m\u001b[43m)\u001b[49m\n",
      "File \u001b[1;32mc:\\Users\\visha\\miniconda3\\envs\\mchatbot\\Lib\\site-packages\\chromadb\\api\\client.py:58\u001b[0m, in \u001b[0;36mClient.__init__\u001b[1;34m(self, tenant, database, settings)\u001b[0m\n\u001b[0;32m     52\u001b[0m \u001b[38;5;28;01mdef\u001b[39;00m\u001b[38;5;250m \u001b[39m\u001b[38;5;21m__init__\u001b[39m(\n\u001b[0;32m     53\u001b[0m     \u001b[38;5;28mself\u001b[39m,\n\u001b[0;32m     54\u001b[0m     tenant: \u001b[38;5;28mstr\u001b[39m \u001b[38;5;241m=\u001b[39m DEFAULT_TENANT,\n\u001b[0;32m     55\u001b[0m     database: \u001b[38;5;28mstr\u001b[39m \u001b[38;5;241m=\u001b[39m DEFAULT_DATABASE,\n\u001b[0;32m     56\u001b[0m     settings: Settings \u001b[38;5;241m=\u001b[39m Settings(),\n\u001b[0;32m     57\u001b[0m ) \u001b[38;5;241m-\u001b[39m\u001b[38;5;241m>\u001b[39m \u001b[38;5;28;01mNone\u001b[39;00m:\n\u001b[1;32m---> 58\u001b[0m     \u001b[38;5;28;43msuper\u001b[39;49m\u001b[43m(\u001b[49m\u001b[43m)\u001b[49m\u001b[38;5;241;43m.\u001b[39;49m\u001b[38;5;21;43m__init__\u001b[39;49m\u001b[43m(\u001b[49m\u001b[43msettings\u001b[49m\u001b[38;5;241;43m=\u001b[39;49m\u001b[43msettings\u001b[49m\u001b[43m)\u001b[49m\n\u001b[0;32m     59\u001b[0m     \u001b[38;5;28mself\u001b[39m\u001b[38;5;241m.\u001b[39mtenant \u001b[38;5;241m=\u001b[39m tenant\n\u001b[0;32m     60\u001b[0m     \u001b[38;5;28mself\u001b[39m\u001b[38;5;241m.\u001b[39mdatabase \u001b[38;5;241m=\u001b[39m database\n",
      "File \u001b[1;32mc:\\Users\\visha\\miniconda3\\envs\\mchatbot\\Lib\\site-packages\\chromadb\\api\\shared_system_client.py:19\u001b[0m, in \u001b[0;36mSharedSystemClient.__init__\u001b[1;34m(self, settings)\u001b[0m\n\u001b[0;32m     14\u001b[0m \u001b[38;5;28;01mdef\u001b[39;00m\u001b[38;5;250m \u001b[39m\u001b[38;5;21m__init__\u001b[39m(\n\u001b[0;32m     15\u001b[0m     \u001b[38;5;28mself\u001b[39m,\n\u001b[0;32m     16\u001b[0m     settings: Settings \u001b[38;5;241m=\u001b[39m Settings(),\n\u001b[0;32m     17\u001b[0m ) \u001b[38;5;241m-\u001b[39m\u001b[38;5;241m>\u001b[39m \u001b[38;5;28;01mNone\u001b[39;00m:\n\u001b[0;32m     18\u001b[0m     \u001b[38;5;28mself\u001b[39m\u001b[38;5;241m.\u001b[39m_identifier \u001b[38;5;241m=\u001b[39m SharedSystemClient\u001b[38;5;241m.\u001b[39m_get_identifier_from_settings(settings)\n\u001b[1;32m---> 19\u001b[0m     \u001b[43mSharedSystemClient\u001b[49m\u001b[38;5;241;43m.\u001b[39;49m\u001b[43m_create_system_if_not_exists\u001b[49m\u001b[43m(\u001b[49m\u001b[38;5;28;43mself\u001b[39;49m\u001b[38;5;241;43m.\u001b[39;49m\u001b[43m_identifier\u001b[49m\u001b[43m,\u001b[49m\u001b[43m \u001b[49m\u001b[43msettings\u001b[49m\u001b[43m)\u001b[49m\n",
      "File \u001b[1;32mc:\\Users\\visha\\miniconda3\\envs\\mchatbot\\Lib\\site-packages\\chromadb\\api\\shared_system_client.py:26\u001b[0m, in \u001b[0;36mSharedSystemClient._create_system_if_not_exists\u001b[1;34m(cls, identifier, settings)\u001b[0m\n\u001b[0;32m     21\u001b[0m \u001b[38;5;129m@classmethod\u001b[39m\n\u001b[0;32m     22\u001b[0m \u001b[38;5;28;01mdef\u001b[39;00m\u001b[38;5;250m \u001b[39m\u001b[38;5;21m_create_system_if_not_exists\u001b[39m(\n\u001b[0;32m     23\u001b[0m     \u001b[38;5;28mcls\u001b[39m, identifier: \u001b[38;5;28mstr\u001b[39m, settings: Settings\n\u001b[0;32m     24\u001b[0m ) \u001b[38;5;241m-\u001b[39m\u001b[38;5;241m>\u001b[39m System:\n\u001b[0;32m     25\u001b[0m     \u001b[38;5;28;01mif\u001b[39;00m identifier \u001b[38;5;129;01mnot\u001b[39;00m \u001b[38;5;129;01min\u001b[39;00m \u001b[38;5;28mcls\u001b[39m\u001b[38;5;241m.\u001b[39m_identifier_to_system:\n\u001b[1;32m---> 26\u001b[0m         new_system \u001b[38;5;241m=\u001b[39m \u001b[43mSystem\u001b[49m\u001b[43m(\u001b[49m\u001b[43msettings\u001b[49m\u001b[43m)\u001b[49m\n\u001b[0;32m     27\u001b[0m         \u001b[38;5;28mcls\u001b[39m\u001b[38;5;241m.\u001b[39m_identifier_to_system[identifier] \u001b[38;5;241m=\u001b[39m new_system\n\u001b[0;32m     29\u001b[0m         new_system\u001b[38;5;241m.\u001b[39minstance(ProductTelemetryClient)\n",
      "File \u001b[1;32mc:\\Users\\visha\\miniconda3\\envs\\mchatbot\\Lib\\site-packages\\chromadb\\config.py:363\u001b[0m, in \u001b[0;36mSystem.__init__\u001b[1;34m(self, settings)\u001b[0m\n\u001b[0;32m    361\u001b[0m \u001b[38;5;66;03m# Validate settings don't contain any legacy config values\u001b[39;00m\n\u001b[0;32m    362\u001b[0m \u001b[38;5;28;01mfor\u001b[39;00m key \u001b[38;5;129;01min\u001b[39;00m _legacy_config_keys:\n\u001b[1;32m--> 363\u001b[0m     \u001b[38;5;28;01mif\u001b[39;00m \u001b[43msettings\u001b[49m\u001b[43m[\u001b[49m\u001b[43mkey\u001b[49m\u001b[43m]\u001b[49m \u001b[38;5;129;01mis\u001b[39;00m \u001b[38;5;129;01mnot\u001b[39;00m \u001b[38;5;28;01mNone\u001b[39;00m:\n\u001b[0;32m    364\u001b[0m         \u001b[38;5;28;01mraise\u001b[39;00m \u001b[38;5;167;01mValueError\u001b[39;00m(LEGACY_ERROR)\n\u001b[0;32m    366\u001b[0m \u001b[38;5;28;01mif\u001b[39;00m (\n\u001b[0;32m    367\u001b[0m     settings[\u001b[38;5;124m\"\u001b[39m\u001b[38;5;124mchroma_segment_cache_policy\u001b[39m\u001b[38;5;124m\"\u001b[39m] \u001b[38;5;129;01mis\u001b[39;00m \u001b[38;5;129;01mnot\u001b[39;00m \u001b[38;5;28;01mNone\u001b[39;00m\n\u001b[0;32m    368\u001b[0m     \u001b[38;5;129;01mand\u001b[39;00m settings[\u001b[38;5;124m\"\u001b[39m\u001b[38;5;124mchroma_segment_cache_policy\u001b[39m\u001b[38;5;124m\"\u001b[39m] \u001b[38;5;241m!=\u001b[39m \u001b[38;5;124m\"\u001b[39m\u001b[38;5;124mLRU\u001b[39m\u001b[38;5;124m\"\u001b[39m\n\u001b[0;32m    369\u001b[0m ):\n",
      "File \u001b[1;32mc:\\Users\\visha\\miniconda3\\envs\\mchatbot\\Lib\\site-packages\\chromadb\\config.py:297\u001b[0m, in \u001b[0;36mSettings.__getitem__\u001b[1;34m(self, key)\u001b[0m\n\u001b[0;32m    295\u001b[0m \u001b[38;5;66;03m# Error on legacy config values\u001b[39;00m\n\u001b[0;32m    296\u001b[0m \u001b[38;5;28;01mif\u001b[39;00m \u001b[38;5;28misinstance\u001b[39m(val, \u001b[38;5;28mstr\u001b[39m) \u001b[38;5;129;01mand\u001b[39;00m val \u001b[38;5;129;01min\u001b[39;00m _legacy_config_values:\n\u001b[1;32m--> 297\u001b[0m     \u001b[38;5;28;01mraise\u001b[39;00m \u001b[38;5;167;01mValueError\u001b[39;00m(LEGACY_ERROR)\n\u001b[0;32m    298\u001b[0m \u001b[38;5;28;01mreturn\u001b[39;00m val\n",
      "\u001b[1;31mValueError\u001b[0m: \u001b[91mYou are using a deprecated configuration of Chroma.\n\n\u001b[94mIf you do not have data you wish to migrate, you only need to change how you construct\nyour Chroma client. Please see the \"New Clients\" section of https://docs.trychroma.com/deployment/migration.\n________________________________________________________________________________________________\n\nIf you do have data you wish to migrate, we have a migration tool you can use in order to\nmigrate your data to the new Chroma architecture.\nPlease `pip install chroma-migrate` and run `chroma-migrate` to migrate your data and then\nchange how you construct your Chroma client.\n\nSee https://docs.trychroma.com/deployment/migration for more information or join our discord at https://discord.gg/MMeYNTmh3x for help!\u001b[0m"
     ]
    }
   ],
   "source": [
    "import chromadb\n",
    "from chromadb.config import Settings\n",
    "import os\n",
    "\n",
    "CHROMA_DB_DIR = \"chroma_db\"\n",
    "collection_name = \"bitext_support\"\n",
    "\n",
    "# Ensure the Chroma client is initialized with persistence\n",
    "settings = Settings(chroma_db_impl=\"duckdb+parquet\", persist_directory=CHROMA_DB_DIR)\n",
    "chroma_client = chromadb.Client(settings)\n",
    "\n",
    "# Create or load the collection\n",
    "if collection_name in [col.name for col in chroma_client.list_collections()]:\n",
    "    print(f\"Loading existing Chroma collection: {collection_name}\")\n",
    "    collection = chroma_client.get_collection(name=collection_name)\n",
    "else:\n",
    "    print(f\"Creating new Chroma collection: {collection_name}\")\n",
    "    collection = chroma_client.create_collection(name=collection_name)\n"
   ]
  },
  {
   "cell_type": "code",
   "execution_count": null,
   "id": "51b10d58",
   "metadata": {},
   "outputs": [],
   "source": []
  }
 ],
 "metadata": {
  "kernelspec": {
   "display_name": "mchatbot",
   "language": "python",
   "name": "python3"
  },
  "language_info": {
   "codemirror_mode": {
    "name": "ipython",
    "version": 3
   },
   "file_extension": ".py",
   "mimetype": "text/x-python",
   "name": "python",
   "nbconvert_exporter": "python",
   "pygments_lexer": "ipython3",
   "version": "3.13.2"
  }
 },
 "nbformat": 4,
 "nbformat_minor": 5
}
